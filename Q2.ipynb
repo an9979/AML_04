{
 "cells": [
  {
   "cell_type": "code",
   "execution_count": 2,
   "metadata": {},
   "outputs": [],
   "source": [
    "from sklearn.datasets import make_classification\n",
    "from sklearn.model_selection import train_test_split, GridSearchCV\n",
    "from sklearn.svm import SVC\n",
    "from sklearn.preprocessing import StandardScaler\n",
    "from sklearn.pipeline import Pipeline\n",
    "from sklearn.metrics import precision_score, recall_score\n",
    "# from SimpleMKL import SimpleMKL\n"
   ]
  },
  {
   "cell_type": "code",
   "execution_count": 3,
   "metadata": {},
   "outputs": [],
   "source": [
    "# Generate a custom dataset\n",
    "X, y = make_classification(n_samples=1000, n_features=20,\n",
    "                           n_informative=2, n_redundant=10, random_state=42)\n",
    "\n",
    "# Split the data into 80% training data and 20% validation (test) data\n",
    "X_train, X_test, y_train, y_test = train_test_split(\n",
    "    X, y, test_size=0.2, random_state=42)\n",
    "\n",
    "# Define preprocessing and model pipeline\n",
    "pipeline = Pipeline([\n",
    "    ('scaler', StandardScaler()),\n",
    "    ('classifier', SVC())\n",
    "])\n",
    "\n",
    "# Define the parameter space for grid search\n",
    "param_grid = {\n",
    "    'classifier__C': [0.1,0.5, 1,5, 10],\n",
    "    'classifier__kernel': ['linear', 'rbf'],\n",
    "    'classifier__gamma': ['scale', 'auto']\n",
    "}\n"
   ]
  },
  {
   "cell_type": "code",
   "execution_count": 4,
   "metadata": {},
   "outputs": [
    {
     "name": "stdout",
     "output_type": "stream",
     "text": [
      "Best parameters: {'classifier__C': 0.5, 'classifier__gamma': 'scale', 'classifier__kernel': 'rbf'}\n",
      "Test score: 0.88\n"
     ]
    }
   ],
   "source": [
    "# Initialize the grid search and fit it on the data\n",
    "grid_search = GridSearchCV(pipeline, param_grid, cv=5, n_jobs=-1)\n",
    "grid_search.fit(X_train, y_train)\n",
    "\n",
    "# Get the best parameters\n",
    "best_params = grid_search.best_params_\n",
    "print('Best parameters:', best_params)\n",
    "\n",
    "# Score the model on the test data\n",
    "score = grid_search.score(X_test, y_test)\n",
    "print('Test score:', score)\n"
   ]
  },
  {
   "cell_type": "code",
   "execution_count": 5,
   "metadata": {},
   "outputs": [
    {
     "data": {
      "text/html": [
       "<style>#sk-container-id-1 {color: black;background-color: white;}#sk-container-id-1 pre{padding: 0;}#sk-container-id-1 div.sk-toggleable {background-color: white;}#sk-container-id-1 label.sk-toggleable__label {cursor: pointer;display: block;width: 100%;margin-bottom: 0;padding: 0.3em;box-sizing: border-box;text-align: center;}#sk-container-id-1 label.sk-toggleable__label-arrow:before {content: \"▸\";float: left;margin-right: 0.25em;color: #696969;}#sk-container-id-1 label.sk-toggleable__label-arrow:hover:before {color: black;}#sk-container-id-1 div.sk-estimator:hover label.sk-toggleable__label-arrow:before {color: black;}#sk-container-id-1 div.sk-toggleable__content {max-height: 0;max-width: 0;overflow: hidden;text-align: left;background-color: #f0f8ff;}#sk-container-id-1 div.sk-toggleable__content pre {margin: 0.2em;color: black;border-radius: 0.25em;background-color: #f0f8ff;}#sk-container-id-1 input.sk-toggleable__control:checked~div.sk-toggleable__content {max-height: 200px;max-width: 100%;overflow: auto;}#sk-container-id-1 input.sk-toggleable__control:checked~label.sk-toggleable__label-arrow:before {content: \"▾\";}#sk-container-id-1 div.sk-estimator input.sk-toggleable__control:checked~label.sk-toggleable__label {background-color: #d4ebff;}#sk-container-id-1 div.sk-label input.sk-toggleable__control:checked~label.sk-toggleable__label {background-color: #d4ebff;}#sk-container-id-1 input.sk-hidden--visually {border: 0;clip: rect(1px 1px 1px 1px);clip: rect(1px, 1px, 1px, 1px);height: 1px;margin: -1px;overflow: hidden;padding: 0;position: absolute;width: 1px;}#sk-container-id-1 div.sk-estimator {font-family: monospace;background-color: #f0f8ff;border: 1px dotted black;border-radius: 0.25em;box-sizing: border-box;margin-bottom: 0.5em;}#sk-container-id-1 div.sk-estimator:hover {background-color: #d4ebff;}#sk-container-id-1 div.sk-parallel-item::after {content: \"\";width: 100%;border-bottom: 1px solid gray;flex-grow: 1;}#sk-container-id-1 div.sk-label:hover label.sk-toggleable__label {background-color: #d4ebff;}#sk-container-id-1 div.sk-serial::before {content: \"\";position: absolute;border-left: 1px solid gray;box-sizing: border-box;top: 0;bottom: 0;left: 50%;z-index: 0;}#sk-container-id-1 div.sk-serial {display: flex;flex-direction: column;align-items: center;background-color: white;padding-right: 0.2em;padding-left: 0.2em;position: relative;}#sk-container-id-1 div.sk-item {position: relative;z-index: 1;}#sk-container-id-1 div.sk-parallel {display: flex;align-items: stretch;justify-content: center;background-color: white;position: relative;}#sk-container-id-1 div.sk-item::before, #sk-container-id-1 div.sk-parallel-item::before {content: \"\";position: absolute;border-left: 1px solid gray;box-sizing: border-box;top: 0;bottom: 0;left: 50%;z-index: -1;}#sk-container-id-1 div.sk-parallel-item {display: flex;flex-direction: column;z-index: 1;position: relative;background-color: white;}#sk-container-id-1 div.sk-parallel-item:first-child::after {align-self: flex-end;width: 50%;}#sk-container-id-1 div.sk-parallel-item:last-child::after {align-self: flex-start;width: 50%;}#sk-container-id-1 div.sk-parallel-item:only-child::after {width: 0;}#sk-container-id-1 div.sk-dashed-wrapped {border: 1px dashed gray;margin: 0 0.4em 0.5em 0.4em;box-sizing: border-box;padding-bottom: 0.4em;background-color: white;}#sk-container-id-1 div.sk-label label {font-family: monospace;font-weight: bold;display: inline-block;line-height: 1.2em;}#sk-container-id-1 div.sk-label-container {text-align: center;}#sk-container-id-1 div.sk-container {/* jupyter's `normalize.less` sets `[hidden] { display: none; }` but bootstrap.min.css set `[hidden] { display: none !important; }` so we also need the `!important` here to be able to override the default hidden behavior on the sphinx rendered scikit-learn.org. See: https://github.com/scikit-learn/scikit-learn/issues/21755 */display: inline-block !important;position: relative;}#sk-container-id-1 div.sk-text-repr-fallback {display: none;}</style><div id=\"sk-container-id-1\" class=\"sk-top-container\"><div class=\"sk-text-repr-fallback\"><pre>SVC(C=0.5)</pre><b>In a Jupyter environment, please rerun this cell to show the HTML representation or trust the notebook. <br />On GitHub, the HTML representation is unable to render, please try loading this page with nbviewer.org.</b></div><div class=\"sk-container\" hidden><div class=\"sk-item\"><div class=\"sk-estimator sk-toggleable\"><input class=\"sk-toggleable__control sk-hidden--visually\" id=\"sk-estimator-id-1\" type=\"checkbox\" checked><label for=\"sk-estimator-id-1\" class=\"sk-toggleable__label sk-toggleable__label-arrow\">SVC</label><div class=\"sk-toggleable__content\"><pre>SVC(C=0.5)</pre></div></div></div></div></div>"
      ],
      "text/plain": [
       "SVC(C=0.5)"
      ]
     },
     "execution_count": 5,
     "metadata": {},
     "output_type": "execute_result"
    }
   ],
   "source": [
    "# Create a new SVM model with the best parameters\n",
    "best_svm_model = SVC(\n",
    "    C=best_params['classifier__C'], gamma=best_params['classifier__gamma'], kernel=best_params['classifier__kernel'])\n",
    "\n",
    "# Fit the model on the training data\n",
    "best_svm_model.fit(X_train, y_train)\n"
   ]
  },
  {
   "cell_type": "code",
   "execution_count": 6,
   "metadata": {},
   "outputs": [
    {
     "name": "stdout",
     "output_type": "stream",
     "text": [
      "Precision: 0.8735632183908046\n",
      "Recall: 0.8539325842696629\n"
     ]
    }
   ],
   "source": [
    "\n",
    "# Make predictions on the validation data\n",
    "y_pred = best_svm_model.predict(X_test)\n",
    "\n",
    "y_predGrid = best_svm_model.predict(X_test)\n",
    "\n",
    "precisionGrid = precision_score(y_test, y_predGrid)\n",
    "recallGrid = recall_score(y_test, y_predGrid)\n",
    "\n",
    "print('Precision:', precisionGrid)\n",
    "print('Recall:', recallGrid)\n"
   ]
  },
  {
   "cell_type": "code",
   "execution_count": 7,
   "metadata": {},
   "outputs": [
    {
     "name": "stdout",
     "output_type": "stream",
     "text": [
      "Precision: 0.8636363636363636\n",
      "Recall: 0.8539325842696629\n"
     ]
    }
   ],
   "source": [
    "from sklearn.kernel_approximation import Nystroem\n",
    "# Perform Nystroem approximation to approximate the multiple kernels\n",
    "n_components = 15  # Number of components/kernels\n",
    "nystroem = Nystroem(n_components=n_components)\n",
    "X_train_approx = nystroem.fit_transform(X_train)\n",
    "X_test_approx = nystroem.transform(X_test)\n",
    "\n",
    "# Train an SVM classifier on the approximated data\n",
    "svm = SVC()\n",
    "svm.fit(X_train_approx, y_train)\n",
    "\n",
    "# Predict the labels of the test set\n",
    "y_pred = svm.predict(X_test_approx)\n",
    "\n",
    "# Calculate precision and recall\n",
    "precision = precision_score(y_test, y_pred)\n",
    "recall = recall_score(y_test, y_pred)\n",
    "\n",
    "print('Precision:', precision)\n",
    "print('Recall:', recall)\n"
   ]
  },
  {
   "cell_type": "code",
   "execution_count": 14,
   "metadata": {},
   "outputs": [
    {
     "ename": "ImportError",
     "evalue": "cannot import name 'RealFeatures' from 'shogun' (c:\\Users\\Alireza Nasoodi\\AppData\\Local\\Programs\\Python\\Python310\\lib\\site-packages\\shogun\\__init__.py)",
     "output_type": "error",
     "traceback": [
      "\u001b[1;31m---------------------------------------------------------------------------\u001b[0m",
      "\u001b[1;31mImportError\u001b[0m                               Traceback (most recent call last)",
      "Cell \u001b[1;32mIn[14], line 1\u001b[0m\n\u001b[1;32m----> 1\u001b[0m \u001b[38;5;28;01mfrom\u001b[39;00m \u001b[38;5;21;01mshogun\u001b[39;00m \u001b[38;5;28;01mimport\u001b[39;00m RealFeatures, BinaryLabels, MulticlassLabels, KernelMulticlassMachine, GaussianKernel, PolyKernel\n",
      "\u001b[1;31mImportError\u001b[0m: cannot import name 'RealFeatures' from 'shogun' (c:\\Users\\Alireza Nasoodi\\AppData\\Local\\Programs\\Python\\Python310\\lib\\site-packages\\shogun\\__init__.py)"
     ]
    }
   ],
   "source": [
    "from shogun import RealFeatures, BinaryLabels, MulticlassLabels, KernelMulticlassMachine, GaussianKernel, PolyKernel"
   ]
  },
  {
   "cell_type": "code",
   "execution_count": 11,
   "metadata": {},
   "outputs": [
    {
     "ename": "NameError",
     "evalue": "name 'RealFeatures' is not defined",
     "output_type": "error",
     "traceback": [
      "\u001b[1;31m---------------------------------------------------------------------------\u001b[0m",
      "\u001b[1;31mNameError\u001b[0m                                 Traceback (most recent call last)",
      "Cell \u001b[1;32mIn[11], line 2\u001b[0m\n\u001b[0;32m      1\u001b[0m \u001b[38;5;66;03m# Convert data to Shogun format\u001b[39;00m\n\u001b[1;32m----> 2\u001b[0m features_train \u001b[38;5;241m=\u001b[39m \u001b[43mRealFeatures\u001b[49m(X_train\u001b[38;5;241m.\u001b[39mT)\n\u001b[0;32m      3\u001b[0m labels_train \u001b[38;5;241m=\u001b[39m BinaryLabels(y_train)\n\u001b[0;32m      5\u001b[0m features_val \u001b[38;5;241m=\u001b[39m RealFeatures(X_test\u001b[38;5;241m.\u001b[39mT)\n",
      "\u001b[1;31mNameError\u001b[0m: name 'RealFeatures' is not defined"
     ]
    }
   ],
   "source": [
    "# Convert data to Shogun format\n",
    "features_train = RealFeatures(X_train.T)\n",
    "labels_train = BinaryLabels(y_train)\n",
    "\n",
    "features_val = RealFeatures(X_test.T)\n",
    "labels_val = BinaryLabels(y_test)\n",
    "\n",
    "# Create kernel objects\n",
    "kernel_linear = GaussianKernel(features_train, features_train, 1.0)\n",
    "kernel_rbf = GaussianKernel(features_train, features_train, 2.0)\n",
    "kernel_poly = PolyKernel(features_train, features_train, 2.0, 2.0)\n",
    "\n",
    "# Create the multi-kernel SVM model\n",
    "machine = KernelMulticlassMachine()\n",
    "machine.set_labels(labels_train)\n",
    "\n",
    "# Set up the multi-kernel with different weights\n",
    "machine.add_kernel(kernel_linear)\n",
    "machine.add_kernel(kernel_rbf)\n",
    "machine.add_kernel(kernel_poly)\n",
    "\n",
    "# Train the model\n",
    "machine.train()\n",
    "\n",
    "# Make predictions on the validation data\n",
    "predictions = machine.apply_multiclass(features_val).get_labels()\n",
    "\n",
    "# Convert predictions to numpy array\n",
    "predictions = np.array(predictions)\n",
    "\n",
    "# Calculate precision and recall\n",
    "precision = precision_score(y_val, predictions)\n",
    "recall = recall_score(y_val, predictions)\n",
    "\n",
    "print(\"Precision:\", precision)\n",
    "print(\"Recall:\", recall)\n"
   ]
  }
 ],
 "metadata": {
  "kernelspec": {
   "display_name": "Python 3.10.5 64-bit",
   "language": "python",
   "name": "python3"
  },
  "language_info": {
   "codemirror_mode": {
    "name": "ipython",
    "version": 3
   },
   "file_extension": ".py",
   "mimetype": "text/x-python",
   "name": "python",
   "nbconvert_exporter": "python",
   "pygments_lexer": "ipython3",
   "version": "3.10.5"
  },
  "orig_nbformat": 4,
  "vscode": {
   "interpreter": {
    "hash": "c90e05859a382666e4894d63a584122ff5de3af31a894f8fc2a602eebd928066"
   }
  }
 },
 "nbformat": 4,
 "nbformat_minor": 2
}
