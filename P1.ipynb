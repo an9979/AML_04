{
 "cells": [
  {
   "cell_type": "code",
   "execution_count": 1,
   "metadata": {},
   "outputs": [
    {
     "name": "stderr",
     "output_type": "stream",
     "text": [
      "C:\\Users\\Alireza\\AppData\\Local\\Temp\\ipykernel_6316\\3501914212.py:13: DeprecationWarning: use options instead of chrome_options\n",
      "  driver = webdriver.Chrome(chrome_options=chrome_options)\n"
     ]
    }
   ],
   "source": [
    "from selenium import webdriver\n",
    "from selenium.webdriver.common.by import By\n",
    "from selenium.webdriver.support.ui import WebDriverWait\n",
    "from selenium.webdriver.support import expected_conditions as EC\n",
    "import time\n",
    "from selenium.common.exceptions import *\n",
    "import csv\n",
    "import pandas as pd\n",
    "from urllib.parse import urljoin\n",
    "PATH=\"C:\\Program Files (x86)\"\n",
    "chrome_options = webdriver.ChromeOptions()\n",
    "chrome_options.add_argument('--blink-settings=imagesEnabled=false')\n",
    "driver = webdriver.Chrome(chrome_options=chrome_options)\n",
    "home_url = 'https://divar.ir'\n",
    "url_file = 'AdsUrl.txt'\n"
   ]
  },
  {
   "cell_type": "code",
   "execution_count": null,
   "metadata": {},
   "outputs": [],
   "source": [
    "screen_height = driver.execute_script(\n",
    "    \"return window.screen.height;\")\n",
    "with open(url_file, 'w', newline='', encoding='utf-8') as write_obj:\n",
    "    write_obj.writelines('')\n",
    "driver.get(\"https://divar.ir/s/tehran/car/peugeot/206/2\")\n",
    "f=0\n",
    "for i in range(1000):\n",
    "\n",
    "    # scroll one screen height each time\n",
    "    driver.execute_script(\n",
    "        \"window.scrollTo(0, {screen_height}*{i});\".format(screen_height=screen_height, i=i))\n",
    "    time.sleep(1)\n",
    "\n",
    "      # scrap the page\n",
    "      # find tag div for ads\n",
    "    for each_div in driver.find_elements(\n",
    "        By.CSS_SELECTOR, '.post-card-item-af972.kt-col-6-bee95.kt-col-xxl-4-e9d46'):\n",
    "        if each_div == None:\n",
    "            continue\n",
    "        url = ''\n",
    "\n",
    "        # find a tag\n",
    "        a_tag = each_div.find_element(By.TAG_NAME,'a' )\n",
    "\n",
    "        if a_tag != None :\n",
    "            url = urljoin(home_url, a_tag.get_attribute('href'))\n",
    "            print(f)\n",
    "            f=f+1\n",
    "            # find the rent urls and save in the text file\n",
    "            with open(url_file, 'a+', newline='', encoding='utf-8') as write_obj:\n",
    "                write_obj.writelines(url + '\\n')\n"
   ]
  },
  {
   "cell_type": "code",
   "execution_count": 15,
   "metadata": {},
   "outputs": [
    {
     "name": "stdout",
     "output_type": "stream",
     "text": [
      "Duplicate links removed and file updated.\n"
     ]
    }
   ],
   "source": [
    "def remove_duplicate_links(file_path):\n",
    "    # Read the file and extract the links\n",
    "    with open(file_path, 'r') as file:\n",
    "        links = file.readlines()\n",
    "\n",
    "    # Remove duplicate links while preserving the order\n",
    "    unique_links = list(dict.fromkeys(links))\n",
    "\n",
    "    # Write the unique links back to the file\n",
    "    with open(file_path, 'w') as file:\n",
    "        file.writelines(unique_links)\n",
    "\n",
    "    print(\"Duplicate links removed and file updated.\")\n",
    "\n",
    "\n",
    "# Provide the file path as an argument to the function\n",
    "file_path = \"path/to/your/file.txt\"\n",
    "remove_duplicate_links(url_file)\n"
   ]
  },
  {
   "cell_type": "code",
   "execution_count": 3,
   "metadata": {},
   "outputs": [],
   "source": [
    "data = []\n"
   ]
  },
  {
   "cell_type": "code",
   "execution_count": null,
   "metadata": {},
   "outputs": [],
   "source": [
    "with open(url_file, 'r', newline='', encoding='utf-8') as read_obj:\n",
    "    links = read_obj.readlines()\n",
    "i=0\n",
    "\n",
    "for link in links:\n",
    "    try:\n",
    "        driver.get(link)\n",
    "        description_elements = driver.find_elements(By.CSS_SELECTOR, '.kt-group-row-item--info-row')\n",
    "        if description_elements != None:\n",
    "            details = {}\n",
    "            for element in description_elements:\n",
    "                title = element.find_element(\n",
    "                    By.CLASS_NAME, 'kt-group-row-item__title').text\n",
    "                value = element.find_element(\n",
    "                    By.CLASS_NAME, 'kt-group-row-item__value').text\n",
    "                details[title] = value\n",
    "            second_set_elements = driver.find_elements(\n",
    "                By.CSS_SELECTOR, '.kt-unexpandable-row')\n",
    "            for element in second_set_elements:\n",
    "                title = element.find_element(\n",
    "                    By.CLASS_NAME, 'kt-unexpandable-row__title').text\n",
    "                value = element.find_element(\n",
    "                    By.CLASS_NAME, 'kt-unexpandable-row__value-box').text\n",
    "                details[title] = value\n",
    "            data.append(details)\n",
    "            print(i)\n",
    "            i=i+1\n",
    "        else:\n",
    "            print(\"not found\")\n",
    "    except Exception:\n",
    "        print(\"not found\")\n",
    "        # Handle StaleElementReferenceException by re-finding the card elements and clicking again"
   ]
  },
  {
   "cell_type": "code",
   "execution_count": 20,
   "metadata": {},
   "outputs": [],
   "source": [
    "csv_file_path = \"data.csv\"\n",
    "\n",
    "# Save the data to CSV file\n",
    "with open(csv_file_path, \"w\", newline=\"\", encoding=\"utf-8\") as csvfile:\n",
    "    writer = csv.writer(csvfile)\n",
    "\n",
    "    # Write the data rows\n",
    "    writer.writerows(data)\n"
   ]
  },
  {
   "cell_type": "code",
   "execution_count": 5,
   "metadata": {},
   "outputs": [],
   "source": [
    "df = pd.DataFrame(data)\n"
   ]
  },
  {
   "cell_type": "code",
   "execution_count": 7,
   "metadata": {},
   "outputs": [],
   "source": [
    "df.to_csv('cardata.csv',index=False,encoding='utf-8')"
   ]
  },
  {
   "cell_type": "code",
   "execution_count": 31,
   "metadata": {},
   "outputs": [
    {
     "data": {
      "text/html": [
       "<div>\n",
       "<style scoped>\n",
       "    .dataframe tbody tr th:only-of-type {\n",
       "        vertical-align: middle;\n",
       "    }\n",
       "\n",
       "    .dataframe tbody tr th {\n",
       "        vertical-align: top;\n",
       "    }\n",
       "\n",
       "    .dataframe thead th {\n",
       "        text-align: right;\n",
       "    }\n",
       "</style>\n",
       "<table border=\"1\" class=\"dataframe\">\n",
       "  <thead>\n",
       "    <tr style=\"text-align: right;\">\n",
       "      <th></th>\n",
       "      <th>کارکرد</th>\n",
       "      <th>مدل (سال تولید)</th>\n",
       "      <th>رنگ</th>\n",
       "      <th>برند و تیپ</th>\n",
       "      <th>نوع سوخت</th>\n",
       "      <th>وضعیت موتور</th>\n",
       "      <th>وضعیت شاسی‌ها</th>\n",
       "      <th>وضعیت بدنه</th>\n",
       "      <th>مهلت بیمهٔ شخص ثالث</th>\n",
       "      <th>گیربکس</th>\n",
       "      <th>قیمت پایه</th>\n",
       "      <th>شاسی جلو</th>\n",
       "      <th>شاسی عقب</th>\n",
       "      <th>نمایشگاه</th>\n",
       "      <th>نوع آگهی</th>\n",
       "      <th>مایل به معاوضه</th>\n",
       "      <th>حداقل مبلغ پیش‌پرداخت</th>\n",
       "      <th>مبلغ هر قسط</th>\n",
       "      <th>تعداد اقساط</th>\n",
       "      <th>فروشنده</th>\n",
       "    </tr>\n",
       "  </thead>\n",
       "  <tbody>\n",
       "    <tr>\n",
       "      <th>0</th>\n",
       "      <td>۳۰۰٬۰۰۰</td>\n",
       "      <td>۱۳۸۳</td>\n",
       "      <td>نقره‌ای</td>\n",
       "      <td>پژو 206 تیپ ۲</td>\n",
       "      <td>بنزینی</td>\n",
       "      <td>سالم</td>\n",
       "      <td>سالم و پلمپ</td>\n",
       "      <td>رنگ‌شدگی</td>\n",
       "      <td>۹ ماه</td>\n",
       "      <td>دنده‌ای</td>\n",
       "      <td>۱۸۶٬۰۰۰٬۰۰۰ تومان</td>\n",
       "      <td>NaN</td>\n",
       "      <td>NaN</td>\n",
       "      <td>NaN</td>\n",
       "      <td>NaN</td>\n",
       "      <td>NaN</td>\n",
       "      <td>NaN</td>\n",
       "      <td>NaN</td>\n",
       "      <td>NaN</td>\n",
       "      <td>NaN</td>\n",
       "    </tr>\n",
       "    <tr>\n",
       "      <th>1</th>\n",
       "      <td>۴۶٬۰۰۰</td>\n",
       "      <td>۱۴۰۰</td>\n",
       "      <td>سفید</td>\n",
       "      <td>پژو 206 تیپ ۲</td>\n",
       "      <td>بنزینی</td>\n",
       "      <td>سالم</td>\n",
       "      <td>NaN</td>\n",
       "      <td>صافکاری بی‌رنگ</td>\n",
       "      <td>۱ ماه</td>\n",
       "      <td>دنده‌ای</td>\n",
       "      <td>۳۸۵٬۰۰۰٬۰۰۰ تومان</td>\n",
       "      <td>ضربه‌خورده</td>\n",
       "      <td>سالم و پلمپ</td>\n",
       "      <td>NaN</td>\n",
       "      <td>NaN</td>\n",
       "      <td>NaN</td>\n",
       "      <td>NaN</td>\n",
       "      <td>NaN</td>\n",
       "      <td>NaN</td>\n",
       "      <td>NaN</td>\n",
       "    </tr>\n",
       "    <tr>\n",
       "      <th>2</th>\n",
       "      <td>۱۸٬۶۰۰</td>\n",
       "      <td>۱۳۹۹</td>\n",
       "      <td>سفید</td>\n",
       "      <td>پژو 206 تیپ ۲</td>\n",
       "      <td>بنزینی</td>\n",
       "      <td>سالم</td>\n",
       "      <td>سالم و پلمپ</td>\n",
       "      <td>سالم و بی‌خط و خش</td>\n",
       "      <td>۱۱ ماه</td>\n",
       "      <td>دنده‌ای</td>\n",
       "      <td>۴۳۲٬۰۰۰٬۰۰۰ تومان</td>\n",
       "      <td>NaN</td>\n",
       "      <td>NaN</td>\n",
       "      <td>NaN</td>\n",
       "      <td>NaN</td>\n",
       "      <td>NaN</td>\n",
       "      <td>NaN</td>\n",
       "      <td>NaN</td>\n",
       "      <td>NaN</td>\n",
       "      <td>NaN</td>\n",
       "    </tr>\n",
       "    <tr>\n",
       "      <th>3</th>\n",
       "      <td>۲۵۱٬۰۰۰</td>\n",
       "      <td>۱۳۸۸</td>\n",
       "      <td>سفید</td>\n",
       "      <td>پژو 206 تیپ ۲</td>\n",
       "      <td>بنزینی</td>\n",
       "      <td>سالم</td>\n",
       "      <td>سالم و پلمپ</td>\n",
       "      <td>خط و خش جزیی</td>\n",
       "      <td>۹ ماه</td>\n",
       "      <td>دنده‌ای</td>\n",
       "      <td>۲۶۸٬۰۰۰٬۰۰۰ تومان</td>\n",
       "      <td>NaN</td>\n",
       "      <td>NaN</td>\n",
       "      <td>NaN</td>\n",
       "      <td>NaN</td>\n",
       "      <td>NaN</td>\n",
       "      <td>NaN</td>\n",
       "      <td>NaN</td>\n",
       "      <td>NaN</td>\n",
       "      <td>NaN</td>\n",
       "    </tr>\n",
       "    <tr>\n",
       "      <th>4</th>\n",
       "      <td>۲۰۰٬۰۰۰</td>\n",
       "      <td>۱۳۹۰</td>\n",
       "      <td>سفید</td>\n",
       "      <td>پژو 206 تیپ ۲</td>\n",
       "      <td>بنزینی</td>\n",
       "      <td>سالم</td>\n",
       "      <td>سالم و پلمپ</td>\n",
       "      <td>رنگ‌شدگی، در ۲ ناحیه</td>\n",
       "      <td>۱۰ ماه</td>\n",
       "      <td>دنده‌ای</td>\n",
       "      <td>۲۹۰٬۰۰۰٬۰۰۰ تومان</td>\n",
       "      <td>NaN</td>\n",
       "      <td>NaN</td>\n",
       "      <td>NaN</td>\n",
       "      <td>NaN</td>\n",
       "      <td>NaN</td>\n",
       "      <td>NaN</td>\n",
       "      <td>NaN</td>\n",
       "      <td>NaN</td>\n",
       "      <td>NaN</td>\n",
       "    </tr>\n",
       "    <tr>\n",
       "      <th>...</th>\n",
       "      <td>...</td>\n",
       "      <td>...</td>\n",
       "      <td>...</td>\n",
       "      <td>...</td>\n",
       "      <td>...</td>\n",
       "      <td>...</td>\n",
       "      <td>...</td>\n",
       "      <td>...</td>\n",
       "      <td>...</td>\n",
       "      <td>...</td>\n",
       "      <td>...</td>\n",
       "      <td>...</td>\n",
       "      <td>...</td>\n",
       "      <td>...</td>\n",
       "      <td>...</td>\n",
       "      <td>...</td>\n",
       "      <td>...</td>\n",
       "      <td>...</td>\n",
       "      <td>...</td>\n",
       "      <td>...</td>\n",
       "    </tr>\n",
       "    <tr>\n",
       "      <th>1902</th>\n",
       "      <td>۴۰٬۰۰۰</td>\n",
       "      <td>۱۴۰۰</td>\n",
       "      <td>سفید</td>\n",
       "      <td>پژو 206 تیپ ۲</td>\n",
       "      <td>بنزینی</td>\n",
       "      <td>سالم</td>\n",
       "      <td>سالم و پلمپ</td>\n",
       "      <td>خط و خش جزیی</td>\n",
       "      <td>۶ ماه</td>\n",
       "      <td>دنده‌ای</td>\n",
       "      <td>۴۲۵٬۰۰۰٬۰۰۰ تومان</td>\n",
       "      <td>NaN</td>\n",
       "      <td>NaN</td>\n",
       "      <td>NaN</td>\n",
       "      <td>NaN</td>\n",
       "      <td>NaN</td>\n",
       "      <td>NaN</td>\n",
       "      <td>NaN</td>\n",
       "      <td>NaN</td>\n",
       "      <td>NaN</td>\n",
       "    </tr>\n",
       "    <tr>\n",
       "      <th>1903</th>\n",
       "      <td>۰</td>\n",
       "      <td>۱۴۰۱</td>\n",
       "      <td>سفید</td>\n",
       "      <td>پژو 206 تیپ ۲</td>\n",
       "      <td>بنزینی</td>\n",
       "      <td>سالم</td>\n",
       "      <td>سالم و پلمپ</td>\n",
       "      <td>سالم و بی‌خط و خش</td>\n",
       "      <td>۱۲ ماه</td>\n",
       "      <td>دنده‌ای</td>\n",
       "      <td>۴۹۰٬۰۰۰٬۰۰۰ تومان</td>\n",
       "      <td>NaN</td>\n",
       "      <td>NaN</td>\n",
       "      <td>مهراد خودرو</td>\n",
       "      <td>فروشی</td>\n",
       "      <td>NaN</td>\n",
       "      <td>NaN</td>\n",
       "      <td>NaN</td>\n",
       "      <td>NaN</td>\n",
       "      <td>NaN</td>\n",
       "    </tr>\n",
       "    <tr>\n",
       "      <th>1904</th>\n",
       "      <td>۱۲۰٬۰۰۰</td>\n",
       "      <td>۱۳۹۱</td>\n",
       "      <td>سفید</td>\n",
       "      <td>پژو 206 تیپ ۲</td>\n",
       "      <td>بنزینی</td>\n",
       "      <td>سالم</td>\n",
       "      <td>سالم و پلمپ</td>\n",
       "      <td>رنگ‌شدگی</td>\n",
       "      <td>۸ ماه</td>\n",
       "      <td>دنده‌ای</td>\n",
       "      <td>۲۸۰٬۰۰۰٬۰۰۰ تومان</td>\n",
       "      <td>NaN</td>\n",
       "      <td>NaN</td>\n",
       "      <td>NaN</td>\n",
       "      <td>فروشی</td>\n",
       "      <td>NaN</td>\n",
       "      <td>NaN</td>\n",
       "      <td>NaN</td>\n",
       "      <td>NaN</td>\n",
       "      <td>NaN</td>\n",
       "    </tr>\n",
       "    <tr>\n",
       "      <th>1905</th>\n",
       "      <td>۹۷٬۰۰۰</td>\n",
       "      <td>۱۳۹۶</td>\n",
       "      <td>سفید</td>\n",
       "      <td>پژو 206 تیپ ۲</td>\n",
       "      <td>بنزینی</td>\n",
       "      <td>سالم</td>\n",
       "      <td>NaN</td>\n",
       "      <td>رنگ‌شدگی، در ۲ ناحیه</td>\n",
       "      <td>NaN</td>\n",
       "      <td>NaN</td>\n",
       "      <td>۳۳۰٬۰۰۰٬۰۰۰ تومان</td>\n",
       "      <td>NaN</td>\n",
       "      <td>NaN</td>\n",
       "      <td>NaN</td>\n",
       "      <td>NaN</td>\n",
       "      <td>NaN</td>\n",
       "      <td>NaN</td>\n",
       "      <td>NaN</td>\n",
       "      <td>NaN</td>\n",
       "      <td>NaN</td>\n",
       "    </tr>\n",
       "    <tr>\n",
       "      <th>1906</th>\n",
       "      <td>۰</td>\n",
       "      <td>۱۴۰۱</td>\n",
       "      <td>سفید</td>\n",
       "      <td>پژو 206 تیپ ۲</td>\n",
       "      <td>بنزینی</td>\n",
       "      <td>NaN</td>\n",
       "      <td>NaN</td>\n",
       "      <td>سالم و بی‌خط و خش</td>\n",
       "      <td>NaN</td>\n",
       "      <td>NaN</td>\n",
       "      <td>توافقی</td>\n",
       "      <td>NaN</td>\n",
       "      <td>NaN</td>\n",
       "      <td>شرکت اتحاد خودرو خاورمیانه</td>\n",
       "      <td>NaN</td>\n",
       "      <td>NaN</td>\n",
       "      <td>NaN</td>\n",
       "      <td>NaN</td>\n",
       "      <td>NaN</td>\n",
       "      <td>NaN</td>\n",
       "    </tr>\n",
       "  </tbody>\n",
       "</table>\n",
       "<p>1695 rows × 20 columns</p>\n",
       "</div>"
      ],
      "text/plain": [
       "       کارکرد مدل (سال تولید)      رنگ     برند و تیپ نوع سوخت وضعیت موتور  \\\n",
       "0     ۳۰۰٬۰۰۰            ۱۳۸۳  نقره‌ای  پژو 206 تیپ ۲   بنزینی        سالم   \n",
       "1      ۴۶٬۰۰۰            ۱۴۰۰     سفید  پژو 206 تیپ ۲   بنزینی        سالم   \n",
       "2      ۱۸٬۶۰۰            ۱۳۹۹     سفید  پژو 206 تیپ ۲   بنزینی        سالم   \n",
       "3     ۲۵۱٬۰۰۰            ۱۳۸۸     سفید  پژو 206 تیپ ۲   بنزینی        سالم   \n",
       "4     ۲۰۰٬۰۰۰            ۱۳۹۰     سفید  پژو 206 تیپ ۲   بنزینی        سالم   \n",
       "...       ...             ...      ...            ...      ...         ...   \n",
       "1902   ۴۰٬۰۰۰            ۱۴۰۰     سفید  پژو 206 تیپ ۲   بنزینی        سالم   \n",
       "1903        ۰            ۱۴۰۱     سفید  پژو 206 تیپ ۲   بنزینی        سالم   \n",
       "1904  ۱۲۰٬۰۰۰            ۱۳۹۱     سفید  پژو 206 تیپ ۲   بنزینی        سالم   \n",
       "1905   ۹۷٬۰۰۰            ۱۳۹۶     سفید  پژو 206 تیپ ۲   بنزینی        سالم   \n",
       "1906        ۰            ۱۴۰۱     سفید  پژو 206 تیپ ۲   بنزینی         NaN   \n",
       "\n",
       "     وضعیت شاسی‌ها            وضعیت بدنه مهلت بیمهٔ شخص ثالث   گیربکس  \\\n",
       "0      سالم و پلمپ              رنگ‌شدگی               ۹ ماه  دنده‌ای   \n",
       "1              NaN        صافکاری بی‌رنگ               ۱ ماه  دنده‌ای   \n",
       "2      سالم و پلمپ     سالم و بی‌خط و خش              ۱۱ ماه  دنده‌ای   \n",
       "3      سالم و پلمپ          خط و خش جزیی               ۹ ماه  دنده‌ای   \n",
       "4      سالم و پلمپ  رنگ‌شدگی، در ۲ ناحیه              ۱۰ ماه  دنده‌ای   \n",
       "...            ...                   ...                 ...      ...   \n",
       "1902   سالم و پلمپ          خط و خش جزیی               ۶ ماه  دنده‌ای   \n",
       "1903   سالم و پلمپ     سالم و بی‌خط و خش              ۱۲ ماه  دنده‌ای   \n",
       "1904   سالم و پلمپ              رنگ‌شدگی               ۸ ماه  دنده‌ای   \n",
       "1905           NaN  رنگ‌شدگی، در ۲ ناحیه                 NaN      NaN   \n",
       "1906           NaN     سالم و بی‌خط و خش                 NaN      NaN   \n",
       "\n",
       "              قیمت پایه    شاسی جلو     شاسی عقب                    نمایشگاه  \\\n",
       "0     ۱۸۶٬۰۰۰٬۰۰۰ تومان         NaN          NaN                         NaN   \n",
       "1     ۳۸۵٬۰۰۰٬۰۰۰ تومان  ضربه‌خورده  سالم و پلمپ                         NaN   \n",
       "2     ۴۳۲٬۰۰۰٬۰۰۰ تومان         NaN          NaN                         NaN   \n",
       "3     ۲۶۸٬۰۰۰٬۰۰۰ تومان         NaN          NaN                         NaN   \n",
       "4     ۲۹۰٬۰۰۰٬۰۰۰ تومان         NaN          NaN                         NaN   \n",
       "...                 ...         ...          ...                         ...   \n",
       "1902  ۴۲۵٬۰۰۰٬۰۰۰ تومان         NaN          NaN                         NaN   \n",
       "1903  ۴۹۰٬۰۰۰٬۰۰۰ تومان         NaN          NaN                 مهراد خودرو   \n",
       "1904  ۲۸۰٬۰۰۰٬۰۰۰ تومان         NaN          NaN                         NaN   \n",
       "1905  ۳۳۰٬۰۰۰٬۰۰۰ تومان         NaN          NaN                         NaN   \n",
       "1906             توافقی         NaN          NaN  شرکت اتحاد خودرو خاورمیانه   \n",
       "\n",
       "     نوع آگهی مایل به معاوضه حداقل مبلغ پیش‌پرداخت مبلغ هر قسط تعداد اقساط  \\\n",
       "0         NaN            NaN                   NaN         NaN         NaN   \n",
       "1         NaN            NaN                   NaN         NaN         NaN   \n",
       "2         NaN            NaN                   NaN         NaN         NaN   \n",
       "3         NaN            NaN                   NaN         NaN         NaN   \n",
       "4         NaN            NaN                   NaN         NaN         NaN   \n",
       "...       ...            ...                   ...         ...         ...   \n",
       "1902      NaN            NaN                   NaN         NaN         NaN   \n",
       "1903    فروشی            NaN                   NaN         NaN         NaN   \n",
       "1904    فروشی            NaN                   NaN         NaN         NaN   \n",
       "1905      NaN            NaN                   NaN         NaN         NaN   \n",
       "1906      NaN            NaN                   NaN         NaN         NaN   \n",
       "\n",
       "     فروشنده  \n",
       "0        NaN  \n",
       "1        NaN  \n",
       "2        NaN  \n",
       "3        NaN  \n",
       "4        NaN  \n",
       "...      ...  \n",
       "1902     NaN  \n",
       "1903     NaN  \n",
       "1904     NaN  \n",
       "1905     NaN  \n",
       "1906     NaN  \n",
       "\n",
       "[1695 rows x 20 columns]"
      ]
     },
     "execution_count": 31,
     "metadata": {},
     "output_type": "execute_result"
    }
   ],
   "source": [
    "df"
   ]
  },
  {
   "cell_type": "code",
   "execution_count": 85,
   "metadata": {},
   "outputs": [],
   "source": [
    "drop_columns = ['برند و تیپ', 'گیربکس', 'نوع سوخت', 'فروشنده', 'نوع آگهی','مبلغ هر قسط','تعداد اقساط']"
   ]
  },
  {
   "cell_type": "code",
   "execution_count": 30,
   "metadata": {},
   "outputs": [],
   "source": [
    "df.dropna(how='all',axis=0,inplace=True)"
   ]
  },
  {
   "cell_type": "code",
   "execution_count": 74,
   "metadata": {},
   "outputs": [
    {
     "name": "stdout",
     "output_type": "stream",
     "text": [
      "<class 'pandas.core.frame.DataFrame'>\n",
      "Int64Index: 1691 entries, 0 to 1906\n",
      "Data columns (total 20 columns):\n",
      " #   Column                 Non-Null Count  Dtype \n",
      "---  ------                 --------------  ----- \n",
      " 0   کارکرد                 1691 non-null   object\n",
      " 1   مدل (سال تولید)        1691 non-null   object\n",
      " 2   رنگ                    1691 non-null   object\n",
      " 3   برند و تیپ             1691 non-null   object\n",
      " 4   نوع سوخت               1691 non-null   object\n",
      " 5   وضعیت موتور            1691 non-null   object\n",
      " 6   وضعیت شاسی‌ها          1691 non-null   object\n",
      " 7   وضعیت بدنه             1691 non-null   object\n",
      " 8   مهلت بیمهٔ شخص ثالث    1588 non-null   object\n",
      " 9   گیربکس                 1602 non-null   object\n",
      " 10  قیمت پایه              1691 non-null   object\n",
      " 11  شاسی جلو               1691 non-null   object\n",
      " 12  شاسی عقب               1691 non-null   object\n",
      " 13  نمایشگاه               1691 non-null   object\n",
      " 14  نوع آگهی               467 non-null    object\n",
      " 15  مایل به معاوضه         323 non-null    object\n",
      " 16  حداقل مبلغ پیش‌پرداخت  41 non-null     object\n",
      " 17  مبلغ هر قسط            41 non-null     object\n",
      " 18  تعداد اقساط            41 non-null     object\n",
      " 19  فروشنده                7 non-null      object\n",
      "dtypes: object(20)\n",
      "memory usage: 277.4+ KB\n"
     ]
    }
   ],
   "source": [
    "df.info()"
   ]
  },
  {
   "cell_type": "code",
   "execution_count": 55,
   "metadata": {},
   "outputs": [
    {
     "data": {
      "text/plain": [
       "سالم و پلمپ    1666\n",
       "ضربه‌خورده       23\n",
       "رنگ‌شده           2\n",
       "Name: شاسی عقب, dtype: int64"
      ]
     },
     "execution_count": 55,
     "metadata": {},
     "output_type": "execute_result"
    }
   ],
   "source": [
    "df['شاسی عقب'].value_counts()\n"
   ]
  },
  {
   "cell_type": "code",
   "execution_count": 54,
   "metadata": {},
   "outputs": [],
   "source": [
    "df['شاسی عقب']=df['شاسی عقب'].fillna('سالم و پلمپ')\n"
   ]
  },
  {
   "cell_type": "code",
   "execution_count": 59,
   "metadata": {},
   "outputs": [
    {
     "data": {
      "text/plain": [
       "بنزینی    1691\n",
       "Name: نوع سوخت, dtype: int64"
      ]
     },
     "execution_count": 59,
     "metadata": {},
     "output_type": "execute_result"
    }
   ],
   "source": [
    "df['نوع سوخت'].value_counts()"
   ]
  },
  {
   "cell_type": "code",
   "execution_count": 58,
   "metadata": {},
   "outputs": [],
   "source": [
    "df['نوع سوخت'] = df['نوع سوخت'].fillna('بنزینی')\n"
   ]
  },
  {
   "cell_type": "code",
   "execution_count": 63,
   "metadata": {},
   "outputs": [
    {
     "data": {
      "text/plain": [
       "سالم             1670\n",
       "تعویض شده          13\n",
       "نیاز به تعمیر       8\n",
       "Name: وضعیت موتور, dtype: int64"
      ]
     },
     "execution_count": 63,
     "metadata": {},
     "output_type": "execute_result"
    }
   ],
   "source": [
    "df['وضعیت موتور'].value_counts()\n"
   ]
  },
  {
   "cell_type": "code",
   "execution_count": 62,
   "metadata": {},
   "outputs": [],
   "source": [
    "df['وضعیت موتور'] = df['وضعیت موتور'].fillna('سالم')\n"
   ]
  },
  {
   "cell_type": "code",
   "execution_count": 64,
   "metadata": {},
   "outputs": [
    {
     "data": {
      "text/plain": [
       "سالم و پلمپ    1546\n",
       "ضربه‌خورده       10\n",
       "رنگ‌شده           1\n",
       "Name: وضعیت شاسی‌ها, dtype: int64"
      ]
     },
     "execution_count": 64,
     "metadata": {},
     "output_type": "execute_result"
    }
   ],
   "source": [
    "df['وضعیت شاسی‌ها'].value_counts()\n"
   ]
  },
  {
   "cell_type": "code",
   "execution_count": 65,
   "metadata": {},
   "outputs": [],
   "source": [
    "df['وضعیت شاسی‌ها'] = df['وضعیت شاسی‌ها'].fillna('سالم و پلمپ')\n"
   ]
  },
  {
   "cell_type": "code",
   "execution_count": 68,
   "metadata": {},
   "outputs": [
    {
     "data": {
      "text/plain": [
       "سالم و بی‌خط و خش       676\n",
       "خط و خش جزیی            374\n",
       "رنگ‌شدگی                350\n",
       "دوررنگ                  166\n",
       "تمام‌رنگ                 44\n",
       "صافکاری بی‌رنگ           40\n",
       "رنگ‌شدگی، در ۲ ناحیه     21\n",
       "رنگ‌شدگی، در ۱ ناحیه     10\n",
       "تصادفی                   10\n",
       "Name: وضعیت بدنه, dtype: int64"
      ]
     },
     "execution_count": 68,
     "metadata": {},
     "output_type": "execute_result"
    }
   ],
   "source": [
    "df['وضعیت بدنه'].value_counts()\n"
   ]
  },
  {
   "cell_type": "code",
   "execution_count": 67,
   "metadata": {},
   "outputs": [],
   "source": [
    "df['وضعیت بدنه'] = df['وضعیت بدنه'].fillna('سالم و بی‌خط و خش')"
   ]
  },
  {
   "cell_type": "code",
   "execution_count": 70,
   "metadata": {},
   "outputs": [
    {
     "data": {
      "text/plain": [
       "ضربه‌خورده     50\n",
       "سالم و پلمپ    24\n",
       "رنگ‌شده         6\n",
       "Name: شاسی جلو, dtype: int64"
      ]
     },
     "execution_count": 70,
     "metadata": {},
     "output_type": "execute_result"
    }
   ],
   "source": [
    "df['شاسی جلو'].value_counts()"
   ]
  },
  {
   "cell_type": "code",
   "execution_count": 71,
   "metadata": {},
   "outputs": [],
   "source": [
    "df['شاسی جلو'] = df['شاسی جلو'].fillna('سالم و پلمپ')\n"
   ]
  },
  {
   "cell_type": "code",
   "execution_count": 72,
   "metadata": {},
   "outputs": [
    {
     "data": {
      "text/plain": [
       "اتو خطیب             6\n",
       "مهراد خودرو          5\n",
       "دینو خودرو           5\n",
       "سایپا جلالی          4\n",
       "خودرو فیدار سپنتا    3\n",
       "                    ..\n",
       "آرمان خودرو          1\n",
       "اتو آپادانا          1\n",
       "اتوگالری محمدی       1\n",
       "اتو شناس 2           1\n",
       "اتو علایی            1\n",
       "Name: نمایشگاه, Length: 78, dtype: int64"
      ]
     },
     "execution_count": 72,
     "metadata": {},
     "output_type": "execute_result"
    }
   ],
   "source": [
    "df['نمایشگاه'].value_counts()"
   ]
  },
  {
   "cell_type": "code",
   "execution_count": 73,
   "metadata": {},
   "outputs": [],
   "source": [
    "df['نمایشگاه'] = df['نمایشگاه'].fillna('شخصی')"
   ]
  },
  {
   "cell_type": "code",
   "execution_count": 76,
   "metadata": {},
   "outputs": [
    {
     "data": {
      "text/plain": [
       "هستم    323\n",
       "Name: مایل به معاوضه, dtype: int64"
      ]
     },
     "execution_count": 76,
     "metadata": {},
     "output_type": "execute_result"
    }
   ],
   "source": [
    "df['مایل به معاوضه'].value_counts()"
   ]
  },
  {
   "cell_type": "code",
   "execution_count": 77,
   "metadata": {},
   "outputs": [],
   "source": [
    "df['مایل به معاوضه'] = df['مایل به معاوضه'].fillna('نیستم')\n"
   ]
  },
  {
   "cell_type": "code",
   "execution_count": 82,
   "metadata": {},
   "outputs": [
    {
     "data": {
      "text/plain": [
       "0    1650\n",
       "Name: حداقل مبلغ پیش‌پرداخت, dtype: int64"
      ]
     },
     "execution_count": 82,
     "metadata": {},
     "output_type": "execute_result"
    }
   ],
   "source": [
    "df['حداقل مبلغ پیش‌پرداخت'].value_counts()"
   ]
  },
  {
   "cell_type": "code",
   "execution_count": 79,
   "metadata": {},
   "outputs": [],
   "source": [
    "df['حداقل مبلغ پیش‌پرداخت'] = df['حداقل مبلغ پیش‌پرداخت'].fillna(0)\n"
   ]
  },
  {
   "cell_type": "code",
   "execution_count": 81,
   "metadata": {},
   "outputs": [],
   "source": [
    "df.drop(df.loc[df['حداقل مبلغ پیش‌پرداخت']!=0].index, inplace=True)"
   ]
  },
  {
   "cell_type": "code",
   "execution_count": 36,
   "metadata": {},
   "outputs": [],
   "source": [
    "df.drop(df.loc[df['برند و تیپ']!='پژو 206 تیپ ۲'].index, inplace=True)"
   ]
  },
  {
   "cell_type": "code",
   "execution_count": 129,
   "metadata": {},
   "outputs": [],
   "source": [
    "df_test=df"
   ]
  },
  {
   "cell_type": "code",
   "execution_count": 134,
   "metadata": {},
   "outputs": [
    {
     "data": {
      "text/plain": [
       "شخصی         1568\n",
       "نمایشگاهی      75\n",
       "Name: نمایشگاه, dtype: int64"
      ]
     },
     "execution_count": 134,
     "metadata": {},
     "output_type": "execute_result"
    }
   ],
   "source": [
    "df['نمایشگاه'].value_counts()"
   ]
  },
  {
   "cell_type": "code",
   "execution_count": 135,
   "metadata": {},
   "outputs": [],
   "source": [
    "df.loc[df['نمایشگاه']!='شخصی','نمایشگاه']='نمایشگاهی'"
   ]
  },
  {
   "cell_type": "code",
   "execution_count": 111,
   "metadata": {},
   "outputs": [
    {
     "data": {
      "text/plain": [
       "210000000    36\n",
       "230000000    33\n",
       "410000000    32\n",
       "280000000    28\n",
       "220000000    27\n",
       "             ..\n",
       "407000000     1\n",
       "313000000     1\n",
       "454000000     1\n",
       "115000000     1\n",
       "479000000     1\n",
       "Name: قیمت پایه, Length: 280, dtype: int64"
      ]
     },
     "execution_count": 111,
     "metadata": {},
     "output_type": "execute_result"
    }
   ],
   "source": [
    "df['قیمت پایه'].value_counts()"
   ]
  },
  {
   "cell_type": "code",
   "execution_count": 95,
   "metadata": {},
   "outputs": [],
   "source": [
    "df.drop(df.loc[df['قیمت پایه']=='توافقی'].index, inplace=True)"
   ]
  },
  {
   "cell_type": "code",
   "execution_count": 109,
   "metadata": {},
   "outputs": [],
   "source": [
    "import numpy as np"
   ]
  },
  {
   "cell_type": "code",
   "execution_count": 144,
   "metadata": {},
   "outputs": [],
   "source": [
    "df['کارکرد']=df['کارکرد'].str.replace('٬', '').astype(np.int64)"
   ]
  },
  {
   "cell_type": "code",
   "execution_count": 146,
   "metadata": {},
   "outputs": [],
   "source": [
    "df['مدل (سال تولید)']=df['مدل (سال تولید)'].astype(np.int64)"
   ]
  },
  {
   "cell_type": "code",
   "execution_count": null,
   "metadata": {},
   "outputs": [],
   "source": [
    "df['قیمت پایه']=df['قیمت پایه'].str.replace('تومان', '')\n",
    "df['قیمت پایه']=df['قیمت پایه'].str.replace('٬', '')"
   ]
  },
  {
   "cell_type": "code",
   "execution_count": null,
   "metadata": {},
   "outputs": [],
   "source": [
    "df['قیمت پایه']=df['قیمت پایه'].astype(np.int64)"
   ]
  },
  {
   "cell_type": "code",
   "execution_count": 96,
   "metadata": {},
   "outputs": [
    {
     "name": "stdout",
     "output_type": "stream",
     "text": [
      "<class 'pandas.core.frame.DataFrame'>\n",
      "Int64Index: 1643 entries, 0 to 1905\n",
      "Data columns (total 12 columns):\n",
      " #   Column               Non-Null Count  Dtype \n",
      "---  ------               --------------  ----- \n",
      " 0   کارکرد               1643 non-null   object\n",
      " 1   مدل (سال تولید)      1643 non-null   object\n",
      " 2   رنگ                  1643 non-null   object\n",
      " 3   وضعیت موتور          1643 non-null   object\n",
      " 4   وضعیت شاسی‌ها        1643 non-null   object\n",
      " 5   وضعیت بدنه           1643 non-null   object\n",
      " 6   مهلت بیمهٔ شخص ثالث  1551 non-null   object\n",
      " 7   قیمت پایه            1643 non-null   object\n",
      " 8   شاسی جلو             1643 non-null   object\n",
      " 9   شاسی عقب             1643 non-null   object\n",
      " 10  نمایشگاه             1643 non-null   object\n",
      " 11  مایل به معاوضه       1643 non-null   object\n",
      "dtypes: object(12)\n",
      "memory usage: 166.9+ KB\n"
     ]
    }
   ],
   "source": [
    "df.info()"
   ]
  },
  {
   "cell_type": "code",
   "execution_count": 86,
   "metadata": {},
   "outputs": [],
   "source": [
    "df.drop(drop_columns,inplace=True,axis=1)"
   ]
  },
  {
   "cell_type": "code",
   "execution_count": 91,
   "metadata": {},
   "outputs": [],
   "source": [
    "df.drop('حداقل مبلغ پیش‌پرداخت',inplace=True,axis=1)"
   ]
  },
  {
   "cell_type": "code",
   "execution_count": 117,
   "metadata": {},
   "outputs": [],
   "source": [
    "df['مهلت بیمهٔ شخص ثالث']=df['مهلت بیمهٔ شخص ثالث'].fillna('0')"
   ]
  },
  {
   "cell_type": "code",
   "execution_count": 120,
   "metadata": {},
   "outputs": [
    {
     "data": {
      "text/plain": [
       "6     247\n",
       "12    181\n",
       "8     161\n",
       "9     135\n",
       "10    122\n",
       "7     121\n",
       "5     113\n",
       "11    110\n",
       "3     109\n",
       "4     103\n",
       "0      92\n",
       "2      77\n",
       "1      72\n",
       "Name: مهلت بیمهٔ شخص ثالث, dtype: int64"
      ]
     },
     "execution_count": 120,
     "metadata": {},
     "output_type": "execute_result"
    }
   ],
   "source": [
    "df['مهلت بیمهٔ شخص ثالث'].value_counts()"
   ]
  },
  {
   "cell_type": "code",
   "execution_count": 119,
   "metadata": {},
   "outputs": [],
   "source": [
    "df['مهلت بیمهٔ شخص ثالث']=df['مهلت بیمهٔ شخص ثالث'].str.replace('ماه', '').astype(int)"
   ]
  },
  {
   "cell_type": "code",
   "execution_count": 34,
   "metadata": {},
   "outputs": [],
   "source": [
    "df2=pd.read_csv('cardata.csv')"
   ]
  },
  {
   "cell_type": "code",
   "execution_count": 92,
   "metadata": {},
   "outputs": [
    {
     "data": {
      "text/plain": [
       "['کارکرد',\n",
       " 'مدل (سال تولید)',\n",
       " 'رنگ',\n",
       " 'وضعیت موتور',\n",
       " 'وضعیت شاسی\\u200cها',\n",
       " 'وضعیت بدنه',\n",
       " 'مهلت بیمهٔ شخص ثالث',\n",
       " 'قیمت پایه',\n",
       " 'شاسی جلو',\n",
       " 'شاسی عقب',\n",
       " 'نمایشگاه',\n",
       " 'مایل به معاوضه']"
      ]
     },
     "execution_count": 92,
     "metadata": {},
     "output_type": "execute_result"
    }
   ],
   "source": [
    "list(df.columns.values)"
   ]
  },
  {
   "cell_type": "code",
   "execution_count": 93,
   "metadata": {},
   "outputs": [],
   "source": [
    "import matplotlib.pyplot as plt\n",
    "import seaborn as sns\n"
   ]
  },
  {
   "cell_type": "code",
   "execution_count": 114,
   "metadata": {},
   "outputs": [
    {
     "data": {
      "image/png": "[encoded data removed]",
      "text/plain": [
       "<Figure size 800x400 with 1 Axes>"
      ]
     },
     "metadata": {},
     "output_type": "display_data"
    }
   ],
   "source": [
    "plt.figure(figsize=(8,4))\n",
    "# Job titles and associated average salary\n",
    "top_salary = df.groupby('مدل (سال تولید)').agg({'قیمت پایه': 'mean'}).round(\n",
    "    2).sort_values('قیمت پایه', ascending=False).head(10)\n",
    "top_salary.head(10)\n",
    "\n",
    "sns.set(style=\"whitegrid\")\n",
    "ax= sns.barplot(y = top_salary.index, x ='قیمت پایه', \n",
    "            data = top_salary,           \n",
    "            palette = \"viridis\",\n",
    "            width=0.9)\n",
    "            \n",
    "plt.title('Median car prise\\n', fontsize=16, fontweight=\"bold\", loc=\"center\")\n",
    "plt.xlabel('\\nprice in 100 milion', color=\"black\", fontsize=10)\n",
    "plt.ylabel('Manufacture year', color=\"black\", fontsize=10)\n",
    "plt.xticks(fontsize=10, color=\"black\")\n",
    "plt.yticks(fontsize=10, color=\"black\")\n",
    "\n",
    "for i in ax.containers:\n",
    "    ax.bar_label(i, size=10, label_type = \"center\", color=\"white\", fontweight=\"bold\")\n",
    "\n",
    "plt.show() #not needed in Jupyter environment but this opens the plot in another window in other environments"
   ]
  },
  {
   "cell_type": "code",
   "execution_count": 124,
   "metadata": {},
   "outputs": [
    {
     "data": {
      "image/png": "[encoded data removed]",
      "text/plain": [
       "<Figure size 800x400 with 1 Axes>"
      ]
     },
     "metadata": {},
     "output_type": "display_data"
    }
   ],
   "source": [
    "plt.figure(figsize=(8,4))\n",
    "# Job titles and associated average salary\n",
    "top_salary = df.groupby('مهلت بیمهٔ شخص ثالث').agg({'قیمت پایه': 'mean'}).round(\n",
    "    2).sort_values('قیمت پایه', ascending=True).head(10)\n",
    "top_salary.head(10)\n",
    "\n",
    "sns.set(style=\"whitegrid\")\n",
    "ax= sns.barplot(x = top_salary.index, y ='قیمت پایه', \n",
    "            data = top_salary,           \n",
    "            palette = \"viridis\",\n",
    "            width=0.9)\n",
    "            \n",
    "plt.title('Median car prise\\n', fontsize=16, fontweight=\"bold\", loc=\"center\")\n",
    "plt.ylabel('\\nprice in 100 milion', color=\"black\", fontsize=10)\n",
    "plt.xlabel('insurance remaining in month', color=\"black\", fontsize=10)\n",
    "plt.xticks(fontsize=10, color=\"black\")\n",
    "plt.yticks(fontsize=10, color=\"black\")\n",
    "\n",
    "for i in ax.containers:\n",
    "    ax.bar_label(i, size=10, label_type = \"center\", color=\"white\", fontweight=\"bold\")\n",
    "\n",
    "plt.show() #not needed in Jupyter environment but this opens the plot in another window in other environments"
   ]
  },
  {
   "cell_type": "code",
   "execution_count": 142,
   "metadata": {},
   "outputs": [
    {
     "data": {
      "image/png": "[encoded data removed]",
      "text/plain": [
       "<Figure size 800x400 with 1 Axes>"
      ]
     },
     "metadata": {},
     "output_type": "display_data"
    }
   ],
   "source": [
    "plt.figure(figsize=(8,4))\n",
    "# Job titles and associated average salary\n",
    "top_salary = df.groupby('نمایشگاه').agg({'قیمت پایه': 'mean'}).round(\n",
    "    2).sort_values('قیمت پایه', ascending=True).head(10)\n",
    "top_salary.head(10)\n",
    "\n",
    "sns.set(style=\"whitegrid\")\n",
    "ax= sns.barplot(x = top_salary.index, y ='قیمت پایه', \n",
    "            data = top_salary,           \n",
    "            palette = \"viridis\",\n",
    "            width=0.9)\n",
    "            \n",
    "plt.title('Median car prise\\n', fontsize=16, fontweight=\"bold\", loc=\"center\")\n",
    "plt.suptitle('\\nComparison depending on wheather its personal or dealershop\\n',fontsize=9)\n",
    "plt.ylabel('\\nprice in 100 milion', color=\"black\", fontsize=10)\n",
    "plt.xlabel('sale type', color=\"black\", fontsize=10)\n",
    "plt.xticks(fontsize=10, color=\"black\")\n",
    "plt.yticks(fontsize=10, color=\"black\")\n",
    "\n",
    "for i in ax.containers:\n",
    "    ax.bar_label(i, size=10, label_type = \"center\", color=\"white\", fontweight=\"bold\")\n",
    "\n",
    "plt.show() #not needed in Jupyter environment but this opens the plot in another window in other environments"
   ]
  },
  {
   "cell_type": "code",
   "execution_count": 157,
   "metadata": {},
   "outputs": [],
   "source": [
    "from sklearn.model_selection import train_test_split, GridSearchCV\n",
    "from sklearn.svm import SVC\n",
    "from sklearn.preprocessing import StandardScaler\n",
    "from sklearn.pipeline import Pipeline\n",
    "from sklearn.metrics import precision_score, recall_score\n"
   ]
  },
  {
   "cell_type": "code",
   "execution_count": 163,
   "metadata": {},
   "outputs": [],
   "source": [
    "df_test=df"
   ]
  },
  {
   "cell_type": "code",
   "execution_count": 168,
   "metadata": {},
   "outputs": [],
   "source": [
    "df_test['رنگ']=pd.Categorical(df_test['رنگ']).codes.astype(int)\n",
    "df_test['وضعیت موتور']=pd.Categorical(df_test['وضعیت موتور']).codes.astype(int)\n",
    "df_test['وضعیت شاسی‌ها']=pd.Categorical(df_test['وضعیت شاسی‌ها']).codes.astype(int)\n",
    "df_test['وضعیت بدنه']=pd.Categorical(df_test['وضعیت بدنه']).codes.astype(int)\n",
    "df_test['شاسی جلو']=pd.Categorical(df_test['شاسی جلو']).codes.astype(int)\n",
    "df_test['شاسی عقب']=pd.Categorical(df_test['شاسی عقب']).codes.astype(int)\n",
    "df_test['نمایشگاه']=pd.Categorical(df_test['نمایشگاه']).codes.astype(int)\n",
    "df_test['مایل به معاوضه']=pd.Categorical(df_test['مایل به معاوضه']).codes.astype(int)"
   ]
  },
  {
   "cell_type": "code",
   "execution_count": 170,
   "metadata": {},
   "outputs": [],
   "source": [
    "X = df_test.drop('قیمت پایه', axis=1)\n",
    "y = df_test['قیمت پایه']\n",
    "\n",
    "X_train, X_test, y_train, y_test = train_test_split(\n",
    "    X, y, test_size=0.2, random_state=42)\n",
    "pipeline = Pipeline([\n",
    "    ('classifier', SVC())\n",
    "])\n",
    "\n",
    "# Define the parameter space for grid search\n",
    "param_grid = {\n",
    "    'classifier__C': [0.1,0.5, 1,5, 10],\n",
    "    'classifier__kernel': ['linear', 'poly', 'rbf'],\n",
    "    'classifier__gamma':[0.1, 0.01, 0.001]\n",
    "}"
   ]
  },
  {
   "cell_type": "code",
   "execution_count": 171,
   "metadata": {},
   "outputs": [
    {
     "name": "stderr",
     "output_type": "stream",
     "text": [
      "c:\\Python311\\Lib\\site-packages\\sklearn\\model_selection\\_split.py:700: UserWarning: The least populated class in y has only 1 members, which is less than n_splits=5.\n",
      "  warnings.warn(\n"
     ]
    }
   ],
   "source": [
    "# Initialize the grid search and fit it on the data\n",
    "grid_search = GridSearchCV(pipeline, param_grid, cv=5,)\n",
    "grid_search.fit(X_train, y_train)\n",
    "\n",
    "# Get the best parameters\n",
    "best_params = grid_search.best_params_\n",
    "print('Best parameters:', best_params)\n",
    "\n",
    "# Score the model on the test data\n",
    "score = grid_search.score(X_test, y_test)\n",
    "print('Test score:', score)\n"
   ]
  },
  {
   "cell_type": "code",
   "execution_count": null,
   "metadata": {},
   "outputs": [],
   "source": [
    "# Create a new SVM model with the best parameters\n",
    "best_svm_model = SVC(\n",
    "    C=best_params['classifier__C'], gamma=best_params['classifier__gamma'], kernel=best_params['classifier__kernel'])\n",
    "\n",
    "# Fit the model on the training data\n",
    "best_svm_model.fit(X_train, y_train)\n",
    "\n",
    "# Make predictions on the validation data\n",
    "y_pred = best_svm_model.predict(X_test)\n",
    "\n",
    "y_predGrid = best_svm_model.predict(X_test)\n",
    "\n",
    "precisionGrid = precision_score(y_test, y_predGrid)\n",
    "recallGrid = recall_score(y_test, y_predGrid)\n",
    "\n",
    "print('Precision:', precisionGrid)\n",
    "print('Recall:', recallGrid)\n"
   ]
  }
 ],
 "metadata": {
  "kernelspec": {
   "display_name": "Python 3.11.0 64-bit",
   "language": "python",
   "name": "python3"
  },
  "language_info": {
   "codemirror_mode": {
    "name": "ipython",
    "version": 3
   },
   "file_extension": ".py",
   "mimetype": "text/x-python",
   "name": "python",
   "nbconvert_exporter": "python",
   "pygments_lexer": "ipython3",
   "version": "3.11.0"
  },
  "orig_nbformat": 4,
  "vscode": {
   "interpreter": {
    "hash": "c261aea317cc0286b3b3261fbba9abdec21eaa57589985bb7a274bf54d6cc0a7"
   }
  }
 },
 "nbformat": 4,
 "nbformat_minor": 2
}
