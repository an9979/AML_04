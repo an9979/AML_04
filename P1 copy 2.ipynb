{
 "cells": [
  {
   "cell_type": "code",
   "execution_count": 210,
   "metadata": {},
   "outputs": [],
   "source": [
    "from selenium import webdriver\n",
    "from selenium.webdriver.common.by import By\n",
    "from selenium.webdriver.support.ui import WebDriverWait\n",
    "from selenium.webdriver.support import expected_conditions as EC\n",
    "import time\n",
    "# from selenium.common.exceptions import *\n",
    "import csv\n",
    "import pandas as pd\n",
    "# from urllib.parse import urljoin\n",
    "PATH=\"C:\\Program Files (x86)\"\n",
    "# chrome_options = webdriver.ChromeOptions()\n",
    "# chrome_options.add_argument('--blink-settings=imagesEnabled=false')\n",
    "# driver = webdriver.Chrome(chrome_options=chrome_options)\n",
    "home_url = 'https://divar.ir'\n",
    "url_file = 'AdsUrl.txt'\n"
   ]
  },
  {
   "cell_type": "code",
   "execution_count": 211,
   "metadata": {},
   "outputs": [],
   "source": [
    "df =pd.read_csv('cardata.csv')"
   ]
  },
  {
   "cell_type": "code",
   "execution_count": 212,
   "metadata": {},
   "outputs": [
    {
     "data": {
      "text/html": [
       "<div>\n",
       "<style scoped>\n",
       "    .dataframe tbody tr th:only-of-type {\n",
       "        vertical-align: middle;\n",
       "    }\n",
       "\n",
       "    .dataframe tbody tr th {\n",
       "        vertical-align: top;\n",
       "    }\n",
       "\n",
       "    .dataframe thead th {\n",
       "        text-align: right;\n",
       "    }\n",
       "</style>\n",
       "<table border=\"1\" class=\"dataframe\">\n",
       "  <thead>\n",
       "    <tr style=\"text-align: right;\">\n",
       "      <th></th>\n",
       "      <th>کارکرد</th>\n",
       "      <th>مدل (سال تولید)</th>\n",
       "      <th>رنگ</th>\n",
       "      <th>برند و تیپ</th>\n",
       "      <th>نوع سوخت</th>\n",
       "      <th>وضعیت موتور</th>\n",
       "      <th>وضعیت شاسی‌ها</th>\n",
       "      <th>وضعیت بدنه</th>\n",
       "      <th>مهلت بیمهٔ شخص ثالث</th>\n",
       "      <th>گیربکس</th>\n",
       "      <th>قیمت پایه</th>\n",
       "      <th>شاسی جلو</th>\n",
       "      <th>شاسی عقب</th>\n",
       "      <th>نمایشگاه</th>\n",
       "      <th>نوع آگهی</th>\n",
       "      <th>مایل به معاوضه</th>\n",
       "      <th>حداقل مبلغ پیش‌پرداخت</th>\n",
       "      <th>مبلغ هر قسط</th>\n",
       "      <th>تعداد اقساط</th>\n",
       "      <th>فروشنده</th>\n",
       "    </tr>\n",
       "  </thead>\n",
       "  <tbody>\n",
       "    <tr>\n",
       "      <th>0</th>\n",
       "      <td>۳۰۰٬۰۰۰</td>\n",
       "      <td>۱۳۸۳</td>\n",
       "      <td>نقره‌ای</td>\n",
       "      <td>پژو 206 تیپ ۲</td>\n",
       "      <td>بنزینی</td>\n",
       "      <td>سالم</td>\n",
       "      <td>سالم و پلمپ</td>\n",
       "      <td>رنگ‌شدگی</td>\n",
       "      <td>۹ ماه</td>\n",
       "      <td>دنده‌ای</td>\n",
       "      <td>۱۸۶٬۰۰۰٬۰۰۰ تومان</td>\n",
       "      <td>NaN</td>\n",
       "      <td>NaN</td>\n",
       "      <td>NaN</td>\n",
       "      <td>NaN</td>\n",
       "      <td>NaN</td>\n",
       "      <td>NaN</td>\n",
       "      <td>NaN</td>\n",
       "      <td>NaN</td>\n",
       "      <td>NaN</td>\n",
       "    </tr>\n",
       "    <tr>\n",
       "      <th>1</th>\n",
       "      <td>۴۶٬۰۰۰</td>\n",
       "      <td>۱۴۰۰</td>\n",
       "      <td>سفید</td>\n",
       "      <td>پژو 206 تیپ ۲</td>\n",
       "      <td>بنزینی</td>\n",
       "      <td>سالم</td>\n",
       "      <td>NaN</td>\n",
       "      <td>صافکاری بی‌رنگ</td>\n",
       "      <td>۱ ماه</td>\n",
       "      <td>دنده‌ای</td>\n",
       "      <td>۳۸۵٬۰۰۰٬۰۰۰ تومان</td>\n",
       "      <td>ضربه‌خورده</td>\n",
       "      <td>سالم و پلمپ</td>\n",
       "      <td>NaN</td>\n",
       "      <td>NaN</td>\n",
       "      <td>NaN</td>\n",
       "      <td>NaN</td>\n",
       "      <td>NaN</td>\n",
       "      <td>NaN</td>\n",
       "      <td>NaN</td>\n",
       "    </tr>\n",
       "    <tr>\n",
       "      <th>2</th>\n",
       "      <td>۱۸٬۶۰۰</td>\n",
       "      <td>۱۳۹۹</td>\n",
       "      <td>سفید</td>\n",
       "      <td>پژو 206 تیپ ۲</td>\n",
       "      <td>بنزینی</td>\n",
       "      <td>سالم</td>\n",
       "      <td>سالم و پلمپ</td>\n",
       "      <td>سالم و بی‌خط و خش</td>\n",
       "      <td>۱۱ ماه</td>\n",
       "      <td>دنده‌ای</td>\n",
       "      <td>۴۳۲٬۰۰۰٬۰۰۰ تومان</td>\n",
       "      <td>NaN</td>\n",
       "      <td>NaN</td>\n",
       "      <td>NaN</td>\n",
       "      <td>NaN</td>\n",
       "      <td>NaN</td>\n",
       "      <td>NaN</td>\n",
       "      <td>NaN</td>\n",
       "      <td>NaN</td>\n",
       "      <td>NaN</td>\n",
       "    </tr>\n",
       "    <tr>\n",
       "      <th>3</th>\n",
       "      <td>۲۵۱٬۰۰۰</td>\n",
       "      <td>۱۳۸۸</td>\n",
       "      <td>سفید</td>\n",
       "      <td>پژو 206 تیپ ۲</td>\n",
       "      <td>بنزینی</td>\n",
       "      <td>سالم</td>\n",
       "      <td>سالم و پلمپ</td>\n",
       "      <td>خط و خش جزیی</td>\n",
       "      <td>۹ ماه</td>\n",
       "      <td>دنده‌ای</td>\n",
       "      <td>۲۶۸٬۰۰۰٬۰۰۰ تومان</td>\n",
       "      <td>NaN</td>\n",
       "      <td>NaN</td>\n",
       "      <td>NaN</td>\n",
       "      <td>NaN</td>\n",
       "      <td>NaN</td>\n",
       "      <td>NaN</td>\n",
       "      <td>NaN</td>\n",
       "      <td>NaN</td>\n",
       "      <td>NaN</td>\n",
       "    </tr>\n",
       "    <tr>\n",
       "      <th>4</th>\n",
       "      <td>۲۰۰٬۰۰۰</td>\n",
       "      <td>۱۳۹۰</td>\n",
       "      <td>سفید</td>\n",
       "      <td>پژو 206 تیپ ۲</td>\n",
       "      <td>بنزینی</td>\n",
       "      <td>سالم</td>\n",
       "      <td>سالم و پلمپ</td>\n",
       "      <td>رنگ‌شدگی، در ۲ ناحیه</td>\n",
       "      <td>۱۰ ماه</td>\n",
       "      <td>دنده‌ای</td>\n",
       "      <td>۲۹۰٬۰۰۰٬۰۰۰ تومان</td>\n",
       "      <td>NaN</td>\n",
       "      <td>NaN</td>\n",
       "      <td>NaN</td>\n",
       "      <td>NaN</td>\n",
       "      <td>NaN</td>\n",
       "      <td>NaN</td>\n",
       "      <td>NaN</td>\n",
       "      <td>NaN</td>\n",
       "      <td>NaN</td>\n",
       "    </tr>\n",
       "    <tr>\n",
       "      <th>...</th>\n",
       "      <td>...</td>\n",
       "      <td>...</td>\n",
       "      <td>...</td>\n",
       "      <td>...</td>\n",
       "      <td>...</td>\n",
       "      <td>...</td>\n",
       "      <td>...</td>\n",
       "      <td>...</td>\n",
       "      <td>...</td>\n",
       "      <td>...</td>\n",
       "      <td>...</td>\n",
       "      <td>...</td>\n",
       "      <td>...</td>\n",
       "      <td>...</td>\n",
       "      <td>...</td>\n",
       "      <td>...</td>\n",
       "      <td>...</td>\n",
       "      <td>...</td>\n",
       "      <td>...</td>\n",
       "      <td>...</td>\n",
       "    </tr>\n",
       "    <tr>\n",
       "      <th>1902</th>\n",
       "      <td>۴۰٬۰۰۰</td>\n",
       "      <td>۱۴۰۰</td>\n",
       "      <td>سفید</td>\n",
       "      <td>پژو 206 تیپ ۲</td>\n",
       "      <td>بنزینی</td>\n",
       "      <td>سالم</td>\n",
       "      <td>سالم و پلمپ</td>\n",
       "      <td>خط و خش جزیی</td>\n",
       "      <td>۶ ماه</td>\n",
       "      <td>دنده‌ای</td>\n",
       "      <td>۴۲۵٬۰۰۰٬۰۰۰ تومان</td>\n",
       "      <td>NaN</td>\n",
       "      <td>NaN</td>\n",
       "      <td>NaN</td>\n",
       "      <td>NaN</td>\n",
       "      <td>NaN</td>\n",
       "      <td>NaN</td>\n",
       "      <td>NaN</td>\n",
       "      <td>NaN</td>\n",
       "      <td>NaN</td>\n",
       "    </tr>\n",
       "    <tr>\n",
       "      <th>1903</th>\n",
       "      <td>۰</td>\n",
       "      <td>۱۴۰۱</td>\n",
       "      <td>سفید</td>\n",
       "      <td>پژو 206 تیپ ۲</td>\n",
       "      <td>بنزینی</td>\n",
       "      <td>سالم</td>\n",
       "      <td>سالم و پلمپ</td>\n",
       "      <td>سالم و بی‌خط و خش</td>\n",
       "      <td>۱۲ ماه</td>\n",
       "      <td>دنده‌ای</td>\n",
       "      <td>۴۹۰٬۰۰۰٬۰۰۰ تومان</td>\n",
       "      <td>NaN</td>\n",
       "      <td>NaN</td>\n",
       "      <td>مهراد خودرو</td>\n",
       "      <td>فروشی</td>\n",
       "      <td>NaN</td>\n",
       "      <td>NaN</td>\n",
       "      <td>NaN</td>\n",
       "      <td>NaN</td>\n",
       "      <td>NaN</td>\n",
       "    </tr>\n",
       "    <tr>\n",
       "      <th>1904</th>\n",
       "      <td>۱۲۰٬۰۰۰</td>\n",
       "      <td>۱۳۹۱</td>\n",
       "      <td>سفید</td>\n",
       "      <td>پژو 206 تیپ ۲</td>\n",
       "      <td>بنزینی</td>\n",
       "      <td>سالم</td>\n",
       "      <td>سالم و پلمپ</td>\n",
       "      <td>رنگ‌شدگی</td>\n",
       "      <td>۸ ماه</td>\n",
       "      <td>دنده‌ای</td>\n",
       "      <td>۲۸۰٬۰۰۰٬۰۰۰ تومان</td>\n",
       "      <td>NaN</td>\n",
       "      <td>NaN</td>\n",
       "      <td>NaN</td>\n",
       "      <td>فروشی</td>\n",
       "      <td>NaN</td>\n",
       "      <td>NaN</td>\n",
       "      <td>NaN</td>\n",
       "      <td>NaN</td>\n",
       "      <td>NaN</td>\n",
       "    </tr>\n",
       "    <tr>\n",
       "      <th>1905</th>\n",
       "      <td>۹۷٬۰۰۰</td>\n",
       "      <td>۱۳۹۶</td>\n",
       "      <td>سفید</td>\n",
       "      <td>پژو 206 تیپ ۲</td>\n",
       "      <td>بنزینی</td>\n",
       "      <td>سالم</td>\n",
       "      <td>NaN</td>\n",
       "      <td>رنگ‌شدگی، در ۲ ناحیه</td>\n",
       "      <td>NaN</td>\n",
       "      <td>NaN</td>\n",
       "      <td>۳۳۰٬۰۰۰٬۰۰۰ تومان</td>\n",
       "      <td>NaN</td>\n",
       "      <td>NaN</td>\n",
       "      <td>NaN</td>\n",
       "      <td>NaN</td>\n",
       "      <td>NaN</td>\n",
       "      <td>NaN</td>\n",
       "      <td>NaN</td>\n",
       "      <td>NaN</td>\n",
       "      <td>NaN</td>\n",
       "    </tr>\n",
       "    <tr>\n",
       "      <th>1906</th>\n",
       "      <td>۰</td>\n",
       "      <td>۱۴۰۱</td>\n",
       "      <td>سفید</td>\n",
       "      <td>پژو 206 تیپ ۲</td>\n",
       "      <td>بنزینی</td>\n",
       "      <td>NaN</td>\n",
       "      <td>NaN</td>\n",
       "      <td>سالم و بی‌خط و خش</td>\n",
       "      <td>NaN</td>\n",
       "      <td>NaN</td>\n",
       "      <td>توافقی</td>\n",
       "      <td>NaN</td>\n",
       "      <td>NaN</td>\n",
       "      <td>شرکت اتحاد خودرو خاورمیانه</td>\n",
       "      <td>NaN</td>\n",
       "      <td>NaN</td>\n",
       "      <td>NaN</td>\n",
       "      <td>NaN</td>\n",
       "      <td>NaN</td>\n",
       "      <td>NaN</td>\n",
       "    </tr>\n",
       "  </tbody>\n",
       "</table>\n",
       "<p>1907 rows × 20 columns</p>\n",
       "</div>"
      ],
      "text/plain": [
       "       کارکرد مدل (سال تولید)      رنگ     برند و تیپ نوع سوخت وضعیت موتور   \n",
       "0     ۳۰۰٬۰۰۰            ۱۳۸۳  نقره‌ای  پژو 206 تیپ ۲   بنزینی        سالم  \\\n",
       "1      ۴۶٬۰۰۰            ۱۴۰۰     سفید  پژو 206 تیپ ۲   بنزینی        سالم   \n",
       "2      ۱۸٬۶۰۰            ۱۳۹۹     سفید  پژو 206 تیپ ۲   بنزینی        سالم   \n",
       "3     ۲۵۱٬۰۰۰            ۱۳۸۸     سفید  پژو 206 تیپ ۲   بنزینی        سالم   \n",
       "4     ۲۰۰٬۰۰۰            ۱۳۹۰     سفید  پژو 206 تیپ ۲   بنزینی        سالم   \n",
       "...       ...             ...      ...            ...      ...         ...   \n",
       "1902   ۴۰٬۰۰۰            ۱۴۰۰     سفید  پژو 206 تیپ ۲   بنزینی        سالم   \n",
       "1903        ۰            ۱۴۰۱     سفید  پژو 206 تیپ ۲   بنزینی        سالم   \n",
       "1904  ۱۲۰٬۰۰۰            ۱۳۹۱     سفید  پژو 206 تیپ ۲   بنزینی        سالم   \n",
       "1905   ۹۷٬۰۰۰            ۱۳۹۶     سفید  پژو 206 تیپ ۲   بنزینی        سالم   \n",
       "1906        ۰            ۱۴۰۱     سفید  پژو 206 تیپ ۲   بنزینی         NaN   \n",
       "\n",
       "     وضعیت شاسی‌ها            وضعیت بدنه مهلت بیمهٔ شخص ثالث   گیربکس   \n",
       "0      سالم و پلمپ              رنگ‌شدگی               ۹ ماه  دنده‌ای  \\\n",
       "1              NaN        صافکاری بی‌رنگ               ۱ ماه  دنده‌ای   \n",
       "2      سالم و پلمپ     سالم و بی‌خط و خش              ۱۱ ماه  دنده‌ای   \n",
       "3      سالم و پلمپ          خط و خش جزیی               ۹ ماه  دنده‌ای   \n",
       "4      سالم و پلمپ  رنگ‌شدگی، در ۲ ناحیه              ۱۰ ماه  دنده‌ای   \n",
       "...            ...                   ...                 ...      ...   \n",
       "1902   سالم و پلمپ          خط و خش جزیی               ۶ ماه  دنده‌ای   \n",
       "1903   سالم و پلمپ     سالم و بی‌خط و خش              ۱۲ ماه  دنده‌ای   \n",
       "1904   سالم و پلمپ              رنگ‌شدگی               ۸ ماه  دنده‌ای   \n",
       "1905           NaN  رنگ‌شدگی، در ۲ ناحیه                 NaN      NaN   \n",
       "1906           NaN     سالم و بی‌خط و خش                 NaN      NaN   \n",
       "\n",
       "              قیمت پایه    شاسی جلو     شاسی عقب                    نمایشگاه   \n",
       "0     ۱۸۶٬۰۰۰٬۰۰۰ تومان         NaN          NaN                         NaN  \\\n",
       "1     ۳۸۵٬۰۰۰٬۰۰۰ تومان  ضربه‌خورده  سالم و پلمپ                         NaN   \n",
       "2     ۴۳۲٬۰۰۰٬۰۰۰ تومان         NaN          NaN                         NaN   \n",
       "3     ۲۶۸٬۰۰۰٬۰۰۰ تومان         NaN          NaN                         NaN   \n",
       "4     ۲۹۰٬۰۰۰٬۰۰۰ تومان         NaN          NaN                         NaN   \n",
       "...                 ...         ...          ...                         ...   \n",
       "1902  ۴۲۵٬۰۰۰٬۰۰۰ تومان         NaN          NaN                         NaN   \n",
       "1903  ۴۹۰٬۰۰۰٬۰۰۰ تومان         NaN          NaN                 مهراد خودرو   \n",
       "1904  ۲۸۰٬۰۰۰٬۰۰۰ تومان         NaN          NaN                         NaN   \n",
       "1905  ۳۳۰٬۰۰۰٬۰۰۰ تومان         NaN          NaN                         NaN   \n",
       "1906             توافقی         NaN          NaN  شرکت اتحاد خودرو خاورمیانه   \n",
       "\n",
       "     نوع آگهی مایل به معاوضه حداقل مبلغ پیش‌پرداخت مبلغ هر قسط تعداد اقساط   \n",
       "0         NaN            NaN                   NaN         NaN         NaN  \\\n",
       "1         NaN            NaN                   NaN         NaN         NaN   \n",
       "2         NaN            NaN                   NaN         NaN         NaN   \n",
       "3         NaN            NaN                   NaN         NaN         NaN   \n",
       "4         NaN            NaN                   NaN         NaN         NaN   \n",
       "...       ...            ...                   ...         ...         ...   \n",
       "1902      NaN            NaN                   NaN         NaN         NaN   \n",
       "1903    فروشی            NaN                   NaN         NaN         NaN   \n",
       "1904    فروشی            NaN                   NaN         NaN         NaN   \n",
       "1905      NaN            NaN                   NaN         NaN         NaN   \n",
       "1906      NaN            NaN                   NaN         NaN         NaN   \n",
       "\n",
       "     فروشنده  \n",
       "0        NaN  \n",
       "1        NaN  \n",
       "2        NaN  \n",
       "3        NaN  \n",
       "4        NaN  \n",
       "...      ...  \n",
       "1902     NaN  \n",
       "1903     NaN  \n",
       "1904     NaN  \n",
       "1905     NaN  \n",
       "1906     NaN  \n",
       "\n",
       "[1907 rows x 20 columns]"
      ]
     },
     "execution_count": 212,
     "metadata": {},
     "output_type": "execute_result"
    }
   ],
   "source": [
    "df"
   ]
  },
  {
   "cell_type": "code",
   "execution_count": 213,
   "metadata": {},
   "outputs": [],
   "source": [
    "drop_columns = ['برند و تیپ', 'گیربکس', 'نوع سوخت', 'فروشنده', 'نوع آگهی','مبلغ هر قسط','تعداد اقساط']"
   ]
  },
  {
   "cell_type": "code",
   "execution_count": 214,
   "metadata": {},
   "outputs": [],
   "source": [
    "df.dropna(how='all',axis=0,inplace=True)"
   ]
  },
  {
   "cell_type": "code",
   "execution_count": 215,
   "metadata": {},
   "outputs": [
    {
     "name": "stdout",
     "output_type": "stream",
     "text": [
      "<class 'pandas.core.frame.DataFrame'>\n",
      "Index: 1695 entries, 0 to 1906\n",
      "Data columns (total 20 columns):\n",
      " #   Column                 Non-Null Count  Dtype \n",
      "---  ------                 --------------  ----- \n",
      " 0   کارکرد                 1695 non-null   object\n",
      " 1   مدل (سال تولید)        1695 non-null   object\n",
      " 2   رنگ                    1695 non-null   object\n",
      " 3   برند و تیپ             1695 non-null   object\n",
      " 4   نوع سوخت               1691 non-null   object\n",
      " 5   وضعیت موتور            1655 non-null   object\n",
      " 6   وضعیت شاسی‌ها          1561 non-null   object\n",
      " 7   وضعیت بدنه             1694 non-null   object\n",
      " 8   مهلت بیمهٔ شخص ثالث    1591 non-null   object\n",
      " 9   گیربکس                 1605 non-null   object\n",
      " 10  قیمت پایه              1695 non-null   object\n",
      " 11  شاسی جلو               80 non-null     object\n",
      " 12  شاسی عقب               77 non-null     object\n",
      " 13  نمایشگاه               126 non-null    object\n",
      " 14  نوع آگهی               469 non-null    object\n",
      " 15  مایل به معاوضه         323 non-null    object\n",
      " 16  حداقل مبلغ پیش‌پرداخت  41 non-null     object\n",
      " 17  مبلغ هر قسط            41 non-null     object\n",
      " 18  تعداد اقساط            41 non-null     object\n",
      " 19  فروشنده                7 non-null      object\n",
      "dtypes: object(20)\n",
      "memory usage: 278.1+ KB\n"
     ]
    }
   ],
   "source": [
    "df.info()"
   ]
  },
  {
   "cell_type": "code",
   "execution_count": 216,
   "metadata": {},
   "outputs": [
    {
     "data": {
      "text/plain": [
       "شاسی عقب\n",
       "سالم و پلمپ    52\n",
       "ضربه‌خورده     23\n",
       "رنگ‌شده         2\n",
       "Name: count, dtype: int64"
      ]
     },
     "execution_count": 216,
     "metadata": {},
     "output_type": "execute_result"
    }
   ],
   "source": [
    "df['شاسی عقب'].value_counts()\n"
   ]
  },
  {
   "cell_type": "code",
   "execution_count": 217,
   "metadata": {},
   "outputs": [],
   "source": [
    "df['شاسی عقب']=df['شاسی عقب'].fillna('سالم و پلمپ')\n"
   ]
  },
  {
   "cell_type": "code",
   "execution_count": 218,
   "metadata": {},
   "outputs": [
    {
     "data": {
      "text/plain": [
       "نوع سوخت\n",
       "بنزینی    1691\n",
       "Name: count, dtype: int64"
      ]
     },
     "execution_count": 218,
     "metadata": {},
     "output_type": "execute_result"
    }
   ],
   "source": [
    "df['نوع سوخت'].value_counts()"
   ]
  },
  {
   "cell_type": "code",
   "execution_count": 219,
   "metadata": {},
   "outputs": [],
   "source": [
    "df['نوع سوخت'] = df['نوع سوخت'].fillna('بنزینی')\n"
   ]
  },
  {
   "cell_type": "code",
   "execution_count": 220,
   "metadata": {},
   "outputs": [
    {
     "data": {
      "text/plain": [
       "وضعیت موتور\n",
       "سالم             1634\n",
       "تعویض شده          13\n",
       "نیاز به تعمیر       8\n",
       "Name: count, dtype: int64"
      ]
     },
     "execution_count": 220,
     "metadata": {},
     "output_type": "execute_result"
    }
   ],
   "source": [
    "df['وضعیت موتور'].value_counts()\n"
   ]
  },
  {
   "cell_type": "code",
   "execution_count": 221,
   "metadata": {},
   "outputs": [],
   "source": [
    "df['وضعیت موتور'] = df['وضعیت موتور'].fillna('سالم')\n"
   ]
  },
  {
   "cell_type": "code",
   "execution_count": 222,
   "metadata": {},
   "outputs": [
    {
     "data": {
      "text/plain": [
       "وضعیت شاسی‌ها\n",
       "سالم و پلمپ    1550\n",
       "ضربه‌خورده       10\n",
       "رنگ‌شده           1\n",
       "Name: count, dtype: int64"
      ]
     },
     "execution_count": 222,
     "metadata": {},
     "output_type": "execute_result"
    }
   ],
   "source": [
    "df['وضعیت شاسی‌ها'].value_counts()\n"
   ]
  },
  {
   "cell_type": "code",
   "execution_count": 223,
   "metadata": {},
   "outputs": [],
   "source": [
    "df['وضعیت شاسی‌ها'] = df['وضعیت شاسی‌ها'].fillna('سالم و پلمپ')\n"
   ]
  },
  {
   "cell_type": "code",
   "execution_count": 224,
   "metadata": {},
   "outputs": [
    {
     "data": {
      "text/plain": [
       "وضعیت بدنه\n",
       "سالم و بی‌خط و خش       677\n",
       "خط و خش جزیی            374\n",
       "رنگ‌شدگی                351\n",
       "دوررنگ                  166\n",
       "تمام‌رنگ                 44\n",
       "صافکاری بی‌رنگ           40\n",
       "رنگ‌شدگی، در ۲ ناحیه     21\n",
       "تصادفی                   11\n",
       "رنگ‌شدگی، در ۱ ناحیه     10\n",
       "Name: count, dtype: int64"
      ]
     },
     "execution_count": 224,
     "metadata": {},
     "output_type": "execute_result"
    }
   ],
   "source": [
    "df['وضعیت بدنه'].value_counts()\n"
   ]
  },
  {
   "cell_type": "code",
   "execution_count": 225,
   "metadata": {},
   "outputs": [],
   "source": [
    "df['وضعیت بدنه'] = df['وضعیت بدنه'].fillna('سالم و بی‌خط و خش')"
   ]
  },
  {
   "cell_type": "code",
   "execution_count": 226,
   "metadata": {},
   "outputs": [
    {
     "data": {
      "text/plain": [
       "شاسی جلو\n",
       "ضربه‌خورده     50\n",
       "سالم و پلمپ    24\n",
       "رنگ‌شده         6\n",
       "Name: count, dtype: int64"
      ]
     },
     "execution_count": 226,
     "metadata": {},
     "output_type": "execute_result"
    }
   ],
   "source": [
    "df['شاسی جلو'].value_counts()"
   ]
  },
  {
   "cell_type": "code",
   "execution_count": 227,
   "metadata": {},
   "outputs": [],
   "source": [
    "df['شاسی جلو'] = df['شاسی جلو'].fillna('سالم و پلمپ')\n"
   ]
  },
  {
   "cell_type": "code",
   "execution_count": 228,
   "metadata": {},
   "outputs": [
    {
     "data": {
      "text/plain": [
       "نمایشگاه\n",
       "اتو خطیب          6\n",
       "مهراد خودرو       5\n",
       "دینو خودرو        5\n",
       "سایپا جلالی       4\n",
       "کیان خودرو        3\n",
       "                 ..\n",
       "اتو آپادانا       1\n",
       "اتوگالری محمدی    1\n",
       "اتو شناس 2        1\n",
       "کیان سام خودرو    1\n",
       "اتو علایی         1\n",
       "Name: count, Length: 79, dtype: int64"
      ]
     },
     "execution_count": 228,
     "metadata": {},
     "output_type": "execute_result"
    }
   ],
   "source": [
    "df['نمایشگاه'].value_counts()"
   ]
  },
  {
   "cell_type": "code",
   "execution_count": 229,
   "metadata": {},
   "outputs": [],
   "source": [
    "df['نمایشگاه'] = df['نمایشگاه'].fillna('شخصی')"
   ]
  },
  {
   "cell_type": "code",
   "execution_count": 230,
   "metadata": {},
   "outputs": [
    {
     "data": {
      "text/plain": [
       "مایل به معاوضه\n",
       "هستم    323\n",
       "Name: count, dtype: int64"
      ]
     },
     "execution_count": 230,
     "metadata": {},
     "output_type": "execute_result"
    }
   ],
   "source": [
    "df['مایل به معاوضه'].value_counts()"
   ]
  },
  {
   "cell_type": "code",
   "execution_count": 231,
   "metadata": {},
   "outputs": [],
   "source": [
    "df['مایل به معاوضه'] = df['مایل به معاوضه'].fillna('نیستم')\n"
   ]
  },
  {
   "cell_type": "code",
   "execution_count": 232,
   "metadata": {},
   "outputs": [
    {
     "data": {
      "text/plain": [
       "حداقل مبلغ پیش‌پرداخت\n",
       "۲۰۰٬۰۰۰٬۰۰۰ تومان    7\n",
       "۳۰۰٬۰۰۰٬۰۰۰ تومان    6\n",
       "۲۵۰٬۰۰۰٬۰۰۰ تومان    3\n",
       "۱۱۱٬۱۱۱ تومان        3\n",
       "۱٬۱۱۱٬۱۱۱ تومان      2\n",
       "۲۳۰٬۰۰۰٬۰۰۰ تومان    2\n",
       "۱۰۰٬۰۰۰٬۰۰۰ تومان    1\n",
       "۳۲۵٬۰۰۰٬۰۰۰ تومان    1\n",
       "۲۷۰٬۰۰۰٬۰۰۰ تومان    1\n",
       "۲۴۰٬۰۰۰٬۰۰۰ تومان    1\n",
       "۲۱۵٬۰۰۰٬۰۰۰ تومان    1\n",
       "۳۰۰٬۰۰۰ تومان        1\n",
       "۱۸۰٬۰۰۰٬۰۰۰ تومان    1\n",
       "۲۳۵٬۰۰۰٬۰۰۰ تومان    1\n",
       "۲۲۵٬۰۰۰٬۰۰۰ تومان    1\n",
       "۲۲۰٬۰۰۰٬۰۰۰ تومان    1\n",
       "۱۴۰٬۰۰۰٬۰۰۰ تومان    1\n",
       "۳۱۰٬۰۰۰٬۰۰۰ تومان    1\n",
       "۲۸۰٬۰۰۰٬۰۰۰ تومان    1\n",
       "۱۱٬۱۱۱٬۱۱۱ تومان     1\n",
       "۵٬۵۵۵٬۵۵۵ تومان      1\n",
       "۲۵٬۰۰۰٬۰۰۰ تومان     1\n",
       "۱۷۰٬۰۰۰٬۰۰۰ تومان    1\n",
       "۳۲۹٬۰۰۰٬۰۰۰ تومان    1\n",
       "Name: count, dtype: int64"
      ]
     },
     "execution_count": 232,
     "metadata": {},
     "output_type": "execute_result"
    }
   ],
   "source": [
    "df['حداقل مبلغ پیش‌پرداخت'].value_counts()"
   ]
  },
  {
   "cell_type": "code",
   "execution_count": 233,
   "metadata": {},
   "outputs": [],
   "source": [
    "df['حداقل مبلغ پیش‌پرداخت'] = df['حداقل مبلغ پیش‌پرداخت'].fillna(0)\n"
   ]
  },
  {
   "cell_type": "code",
   "execution_count": 234,
   "metadata": {},
   "outputs": [],
   "source": [
    "df.drop(df.loc[df['حداقل مبلغ پیش‌پرداخت']!=0].index, inplace=True)"
   ]
  },
  {
   "cell_type": "code",
   "execution_count": 235,
   "metadata": {},
   "outputs": [],
   "source": [
    "df.drop(df.loc[df['برند و تیپ']!='پژو 206 تیپ ۲'].index, inplace=True)"
   ]
  },
  {
   "cell_type": "code",
   "execution_count": 236,
   "metadata": {},
   "outputs": [],
   "source": [
    "df_test=df"
   ]
  },
  {
   "cell_type": "code",
   "execution_count": 237,
   "metadata": {},
   "outputs": [
    {
     "data": {
      "text/plain": [
       "نمایشگاه\n",
       "شخصی                                             1568\n",
       "مهراد خودرو                                         5\n",
       "اتو خطیب                                            5\n",
       "سایپا جلالی                                         4\n",
       "اتوگالری میرزایی                                    3\n",
       "اتو وکیلی                                           3\n",
       "خزرخودرو خاورمیانه                                  3\n",
       "ارژنگ خودرو پارسیان                                 3\n",
       "شایان خودرواذرخش                                    2\n",
       "شرکت اتحاد خودرو خاورمیانه                          2\n",
       "خودرو کار                                           2\n",
       "اتو آسان                                            2\n",
       "سورن خودرو                                          2\n",
       "اتومبیل محمدزاده                                    2\n",
       "کیان خودرو                                          2\n",
       "خودرو فیدار سپنتا                                   2\n",
       "اتو کاظمی                                           1\n",
       "رایان پارس                                          1\n",
       "اتوگالری فریدنیا                                    1\n",
       "اتو آدرین                                           1\n",
       "اتو فرود (شعبه دولت)                                1\n",
       "رایان خودرو                                         1\n",
       "جاوید خودرو                                         1\n",
       "اتو توکلی                                           1\n",
       "اتو سلیمانی                                         1\n",
       "اتو شیرون                                           1\n",
       "گروه خودرویی فراز                                   1\n",
       "اتو پلاس                                            1\n",
       "اتوگالری دیوارگر                                    1\n",
       "آذر خودرو (آذرخش)                                   1\n",
       "اتو مجید                                            1\n",
       "امین خودرو                                          1\n",
       "عماد خودرو                                          1\n",
       "پدیده خودرو تیراژه                                  1\n",
       "کیان سام خودرو                                      1\n",
       "آرمان خودرو                                         1\n",
       "کیا موتورز توکلی                                    1\n",
       "پیشتازان شهرزاد خودرو پیشگامان                      1\n",
       "اتو تکتاز                                           1\n",
       "جم خودرو                                            1\n",
       "آرتیما خودرو                                        1\n",
       "اتو گالری کارن                                      1\n",
       "اتوگالری حیدر                                       1\n",
       "نمایندگی کد 246 مدیران خودرو MVM دانشگاه شریف       1\n",
       "پیوند خودرو                                         1\n",
       "ماژین موتور                                         1\n",
       "آتیلا سیر خودرو                                     1\n",
       "اتو پارسیان                                         1\n",
       "اتوگالری مسلم                                       1\n",
       "اتو گالری مهرآباد                                   1\n",
       "اتوگالری فرشید                                      1\n",
       "سام ایران خودرو                                     1\n",
       "هونام خودرو ایرانیان                                1\n",
       "بتا موتورز                                          1\n",
       "اداک خودرو مهر                                      1\n",
       "اتو علایی                                           1\n",
       "Name: count, dtype: int64"
      ]
     },
     "execution_count": 237,
     "metadata": {},
     "output_type": "execute_result"
    }
   ],
   "source": [
    "df['نمایشگاه'].value_counts()"
   ]
  },
  {
   "cell_type": "code",
   "execution_count": 238,
   "metadata": {},
   "outputs": [],
   "source": [
    "df.loc[df['نمایشگاه']!='شخصی','نمایشگاه']='نمایشگاهی'"
   ]
  },
  {
   "cell_type": "code",
   "execution_count": 239,
   "metadata": {},
   "outputs": [
    {
     "data": {
      "text/plain": [
       "قیمت پایه\n",
       "۲۱۰٬۰۰۰٬۰۰۰ تومان      36\n",
       "۲۳۰٬۰۰۰٬۰۰۰ تومان      33\n",
       "۴۱۰٬۰۰۰٬۰۰۰ تومان      32\n",
       "۲۸۰٬۰۰۰٬۰۰۰ تومان      28\n",
       "۲۲۰٬۰۰۰٬۰۰۰ تومان      27\n",
       "                       ..\n",
       "۴۲۲٬۰۰۰٬۰۰۰ تومان       1\n",
       "۴٬۱۵۰٬۰۰۰٬۰۰۰ تومان     1\n",
       "۲۶۷٬۰۰۰٬۰۰۰ تومان       1\n",
       "۶۷٬۰۰۰٬۰۰۰ تومان        1\n",
       "۴۷۹٬۰۰۰٬۰۰۰ تومان       1\n",
       "Name: count, Length: 281, dtype: int64"
      ]
     },
     "execution_count": 239,
     "metadata": {},
     "output_type": "execute_result"
    }
   ],
   "source": [
    "df['قیمت پایه'].value_counts()"
   ]
  },
  {
   "cell_type": "code",
   "execution_count": 240,
   "metadata": {},
   "outputs": [],
   "source": [
    "df.drop(df.loc[df['قیمت پایه']=='توافقی'].index, inplace=True)"
   ]
  },
  {
   "cell_type": "code",
   "execution_count": 241,
   "metadata": {},
   "outputs": [],
   "source": [
    "import numpy as np"
   ]
  },
  {
   "cell_type": "code",
   "execution_count": 242,
   "metadata": {},
   "outputs": [],
   "source": [
    "df['کارکرد']=df['کارکرد'].str.replace('٬', '').astype(np.int64)"
   ]
  },
  {
   "cell_type": "code",
   "execution_count": 243,
   "metadata": {},
   "outputs": [],
   "source": [
    "df['مدل (سال تولید)']=df['مدل (سال تولید)'].astype(np.int64)"
   ]
  },
  {
   "cell_type": "code",
   "execution_count": 244,
   "metadata": {},
   "outputs": [],
   "source": [
    "df['قیمت پایه']=df['قیمت پایه'].str.replace('تومان', '')\n",
    "df['قیمت پایه']=df['قیمت پایه'].str.replace('٬', '')"
   ]
  },
  {
   "cell_type": "code",
   "execution_count": 245,
   "metadata": {},
   "outputs": [],
   "source": [
    "df['قیمت پایه']=df['قیمت پایه'].astype(np.int64)"
   ]
  },
  {
   "cell_type": "code",
   "execution_count": 246,
   "metadata": {},
   "outputs": [
    {
     "name": "stdout",
     "output_type": "stream",
     "text": [
      "<class 'pandas.core.frame.DataFrame'>\n",
      "Index: 1643 entries, 0 to 1905\n",
      "Data columns (total 20 columns):\n",
      " #   Column                 Non-Null Count  Dtype \n",
      "---  ------                 --------------  ----- \n",
      " 0   کارکرد                 1643 non-null   int64 \n",
      " 1   مدل (سال تولید)        1643 non-null   int64 \n",
      " 2   رنگ                    1643 non-null   object\n",
      " 3   برند و تیپ             1643 non-null   object\n",
      " 4   نوع سوخت               1643 non-null   object\n",
      " 5   وضعیت موتور            1643 non-null   object\n",
      " 6   وضعیت شاسی‌ها          1643 non-null   object\n",
      " 7   وضعیت بدنه             1643 non-null   object\n",
      " 8   مهلت بیمهٔ شخص ثالث    1551 non-null   object\n",
      " 9   گیربکس                 1566 non-null   object\n",
      " 10  قیمت پایه              1643 non-null   int64 \n",
      " 11  شاسی جلو               1643 non-null   object\n",
      " 12  شاسی عقب               1643 non-null   object\n",
      " 13  نمایشگاه               1643 non-null   object\n",
      " 14  نوع آگهی               452 non-null    object\n",
      " 15  مایل به معاوضه         1643 non-null   object\n",
      " 16  حداقل مبلغ پیش‌پرداخت  1643 non-null   object\n",
      " 17  مبلغ هر قسط            0 non-null      object\n",
      " 18  تعداد اقساط            0 non-null      object\n",
      " 19  فروشنده                7 non-null      object\n",
      "dtypes: int64(3), object(17)\n",
      "memory usage: 269.6+ KB\n"
     ]
    }
   ],
   "source": [
    "df.info()"
   ]
  },
  {
   "cell_type": "code",
   "execution_count": 247,
   "metadata": {},
   "outputs": [],
   "source": [
    "df.drop(drop_columns,inplace=True,axis=1)"
   ]
  },
  {
   "cell_type": "code",
   "execution_count": 248,
   "metadata": {},
   "outputs": [],
   "source": [
    "df.drop('حداقل مبلغ پیش‌پرداخت',inplace=True,axis=1)"
   ]
  },
  {
   "cell_type": "code",
   "execution_count": 249,
   "metadata": {},
   "outputs": [],
   "source": [
    "df['مهلت بیمهٔ شخص ثالث']=df['مهلت بیمهٔ شخص ثالث'].fillna('0')"
   ]
  },
  {
   "cell_type": "code",
   "execution_count": 250,
   "metadata": {},
   "outputs": [
    {
     "data": {
      "text/plain": [
       "مهلت بیمهٔ شخص ثالث\n",
       "۶ ماه     247\n",
       "۱۲ ماه    181\n",
       "۸ ماه     161\n",
       "۹ ماه     135\n",
       "۱۰ ماه    122\n",
       "۷ ماه     121\n",
       "۵ ماه     113\n",
       "۱۱ ماه    110\n",
       "۳ ماه     109\n",
       "۴ ماه     103\n",
       "0          92\n",
       "۲ ماه      77\n",
       "۱ ماه      72\n",
       "Name: count, dtype: int64"
      ]
     },
     "execution_count": 250,
     "metadata": {},
     "output_type": "execute_result"
    }
   ],
   "source": [
    "df['مهلت بیمهٔ شخص ثالث'].value_counts()"
   ]
  },
  {
   "cell_type": "code",
   "execution_count": 367,
   "metadata": {},
   "outputs": [],
   "source": [
    "df_test['مهلت بیمهٔ شخص ثالث']=df_test['مهلت بیمهٔ شخص ثالث'].str.replace('ماه', '').astype(int)"
   ]
  },
  {
   "cell_type": "code",
   "execution_count": 355,
   "metadata": {},
   "outputs": [],
   "source": [
    "df_test=pd.read_csv('newcar.csv')"
   ]
  },
  {
   "cell_type": "code",
   "execution_count": 197,
   "metadata": {},
   "outputs": [
    {
     "data": {
      "text/plain": [
       "['کارکرد',\n",
       " 'مدل (سال تولید)',\n",
       " 'رنگ',\n",
       " 'وضعیت موتور',\n",
       " 'وضعیت شاسی\\u200cها',\n",
       " 'وضعیت بدنه',\n",
       " 'مهلت بیمهٔ شخص ثالث',\n",
       " 'قیمت پایه',\n",
       " 'شاسی جلو',\n",
       " 'شاسی عقب',\n",
       " 'نمایشگاه',\n",
       " 'مایل به معاوضه']"
      ]
     },
     "execution_count": 197,
     "metadata": {},
     "output_type": "execute_result"
    }
   ],
   "source": [
    "list(df.columns.values)"
   ]
  },
  {
   "cell_type": "code",
   "execution_count": 267,
   "metadata": {},
   "outputs": [],
   "source": [
    "from sklearn.model_selection import train_test_split, GridSearchCV\n",
    "from sklearn.svm import SVC\n",
    "from sklearn.preprocessing import StandardScaler\n",
    "from sklearn.pipeline import Pipeline\n",
    "from sklearn.metrics import precision_score, recall_score\n",
    "from sklearn.ensemble import GradientBoostingRegressor\n"
   ]
  },
  {
   "cell_type": "code",
   "execution_count": 252,
   "metadata": {},
   "outputs": [],
   "source": [
    "df_test=df"
   ]
  },
  {
   "cell_type": "code",
   "execution_count": 365,
   "metadata": {},
   "outputs": [
    {
     "data": {
      "text/plain": [
       "رنگ\n",
       "10    923\n",
       "5     208\n",
       "20    185\n",
       "17     93\n",
       "21     64\n",
       "4      37\n",
       "11     26\n",
       "19     17\n",
       "1      16\n",
       "14     16\n",
       "24     16\n",
       "0      14\n",
       "6      10\n",
       "23      4\n",
       "3       3\n",
       "9       2\n",
       "16      1\n",
       "12      1\n",
       "2       1\n",
       "22      1\n",
       "18      1\n",
       "15      1\n",
       "13      1\n",
       "8       1\n",
       "7       1\n",
       "Name: count, dtype: int64"
      ]
     },
     "execution_count": 365,
     "metadata": {},
     "output_type": "execute_result"
    }
   ],
   "source": [
    "df_test['رنگ'].value_counts()\n"
   ]
  },
  {
   "cell_type": "code",
   "execution_count": 357,
   "metadata": {},
   "outputs": [],
   "source": [
    "df_test['رنگ']=pd.Categorical(df_test['رنگ']).codes.astype(int)\n",
    "# df_test['شهر']=pd.Categorical(df_test['شهر']).codes.astype(int)\n",
    "df_test['وضعیت موتور']=pd.Categorical(df_test['وضعیت موتور']).codes.astype(int)\n",
    "df_test['وضعیت شاسی‌ها']=pd.Categorical(df_test['وضعیت شاسی‌ها']).codes.astype(int)\n",
    "df_test['وضعیت بدنه']=pd.Categorical(df_test['وضعیت بدنه']).codes.astype(int)\n",
    "df_test['شاسی جلو']=pd.Categorical(df_test['شاسی جلو']).codes.astype(int)\n",
    "df_test['شاسی عقب']=pd.Categorical(df_test['شاسی عقب']).codes.astype(int)\n",
    "df_test['نمایشگاه']=pd.Categorical(df_test['نمایشگاه']).codes.astype(int)\n",
    "df_test['مایل به معاوضه']=pd.Categorical(df_test['مایل به معاوضه']).codes.astype(int)"
   ]
  },
  {
   "cell_type": "code",
   "execution_count": 291,
   "metadata": {},
   "outputs": [],
   "source": [
    "from sklearn.preprocessing import LabelEncoder, OneHotEncoder\n"
   ]
  },
  {
   "cell_type": "code",
   "execution_count": 300,
   "metadata": {},
   "outputs": [],
   "source": [
    "features = ['کارکرد',\n",
    "            'مدل (سال تولید)',\n",
    "            'رنگ',\n",
    "            'وضعیت موتور',\n",
    "            'وضعیت شاسی\\u200cها',\n",
    "            'وضعیت بدنه',\n",
    "            'مهلت بیمهٔ شخص ثالث',\n",
    "            'شاسی جلو',\n",
    "            'شاسی عقب',\n",
    "            'نمایشگاه',\n",
    "            'مایل به معاوضه']\n",
    "target = 'قیمت پایه'\n",
    "\n",
    "# Perform label encoding for categorical variables\n",
    "label_encoder = LabelEncoder()\n",
    "for feature in features:\n",
    "    if df_test[feature].dtype == 'object':\n",
    "        df_test[feature] = label_encoder.fit_transform(df_test[feature])\n"
   ]
  },
  {
   "cell_type": "code",
   "execution_count": 342,
   "metadata": {},
   "outputs": [
    {
     "data": {
      "text/html": [
       "<div>\n",
       "<style scoped>\n",
       "    .dataframe tbody tr th:only-of-type {\n",
       "        vertical-align: middle;\n",
       "    }\n",
       "\n",
       "    .dataframe tbody tr th {\n",
       "        vertical-align: top;\n",
       "    }\n",
       "\n",
       "    .dataframe thead th {\n",
       "        text-align: right;\n",
       "    }\n",
       "</style>\n",
       "<table border=\"1\" class=\"dataframe\">\n",
       "  <thead>\n",
       "    <tr style=\"text-align: right;\">\n",
       "      <th></th>\n",
       "      <th>Unnamed: 0</th>\n",
       "      <th>کارکرد</th>\n",
       "      <th>مدل (سال تولید)</th>\n",
       "      <th>رنگ</th>\n",
       "      <th>وضعیت موتور</th>\n",
       "      <th>وضعیت شاسی‌ها</th>\n",
       "      <th>وضعیت بدنه</th>\n",
       "      <th>مهلت بیمهٔ شخص ثالث</th>\n",
       "      <th>قیمت پایه</th>\n",
       "      <th>شاسی جلو</th>\n",
       "      <th>شاسی عقب</th>\n",
       "      <th>نمایشگاه</th>\n",
       "      <th>مایل به معاوضه</th>\n",
       "    </tr>\n",
       "  </thead>\n",
       "  <tbody>\n",
       "    <tr>\n",
       "      <th>0</th>\n",
       "      <td>0</td>\n",
       "      <td>300000</td>\n",
       "      <td>1383</td>\n",
       "      <td>20</td>\n",
       "      <td>1</td>\n",
       "      <td>1</td>\n",
       "      <td>4</td>\n",
       "      <td>9</td>\n",
       "      <td>186000000</td>\n",
       "      <td>1</td>\n",
       "      <td>1</td>\n",
       "      <td>0</td>\n",
       "      <td>0</td>\n",
       "    </tr>\n",
       "    <tr>\n",
       "      <th>1</th>\n",
       "      <td>1</td>\n",
       "      <td>46000</td>\n",
       "      <td>1400</td>\n",
       "      <td>10</td>\n",
       "      <td>1</td>\n",
       "      <td>1</td>\n",
       "      <td>8</td>\n",
       "      <td>1</td>\n",
       "      <td>385000000</td>\n",
       "      <td>2</td>\n",
       "      <td>1</td>\n",
       "      <td>0</td>\n",
       "      <td>0</td>\n",
       "    </tr>\n",
       "    <tr>\n",
       "      <th>2</th>\n",
       "      <td>2</td>\n",
       "      <td>18600</td>\n",
       "      <td>1399</td>\n",
       "      <td>10</td>\n",
       "      <td>1</td>\n",
       "      <td>1</td>\n",
       "      <td>7</td>\n",
       "      <td>11</td>\n",
       "      <td>432000000</td>\n",
       "      <td>1</td>\n",
       "      <td>1</td>\n",
       "      <td>0</td>\n",
       "      <td>0</td>\n",
       "    </tr>\n",
       "    <tr>\n",
       "      <th>3</th>\n",
       "      <td>3</td>\n",
       "      <td>251000</td>\n",
       "      <td>1388</td>\n",
       "      <td>10</td>\n",
       "      <td>1</td>\n",
       "      <td>1</td>\n",
       "      <td>2</td>\n",
       "      <td>9</td>\n",
       "      <td>268000000</td>\n",
       "      <td>1</td>\n",
       "      <td>1</td>\n",
       "      <td>0</td>\n",
       "      <td>0</td>\n",
       "    </tr>\n",
       "    <tr>\n",
       "      <th>4</th>\n",
       "      <td>4</td>\n",
       "      <td>200000</td>\n",
       "      <td>1390</td>\n",
       "      <td>10</td>\n",
       "      <td>1</td>\n",
       "      <td>1</td>\n",
       "      <td>6</td>\n",
       "      <td>10</td>\n",
       "      <td>290000000</td>\n",
       "      <td>1</td>\n",
       "      <td>1</td>\n",
       "      <td>0</td>\n",
       "      <td>0</td>\n",
       "    </tr>\n",
       "    <tr>\n",
       "      <th>...</th>\n",
       "      <td>...</td>\n",
       "      <td>...</td>\n",
       "      <td>...</td>\n",
       "      <td>...</td>\n",
       "      <td>...</td>\n",
       "      <td>...</td>\n",
       "      <td>...</td>\n",
       "      <td>...</td>\n",
       "      <td>...</td>\n",
       "      <td>...</td>\n",
       "      <td>...</td>\n",
       "      <td>...</td>\n",
       "      <td>...</td>\n",
       "    </tr>\n",
       "    <tr>\n",
       "      <th>1638</th>\n",
       "      <td>1901</td>\n",
       "      <td>300000</td>\n",
       "      <td>1387</td>\n",
       "      <td>5</td>\n",
       "      <td>1</td>\n",
       "      <td>1</td>\n",
       "      <td>4</td>\n",
       "      <td>7</td>\n",
       "      <td>245000000</td>\n",
       "      <td>1</td>\n",
       "      <td>1</td>\n",
       "      <td>0</td>\n",
       "      <td>1</td>\n",
       "    </tr>\n",
       "    <tr>\n",
       "      <th>1639</th>\n",
       "      <td>1902</td>\n",
       "      <td>40000</td>\n",
       "      <td>1400</td>\n",
       "      <td>10</td>\n",
       "      <td>1</td>\n",
       "      <td>1</td>\n",
       "      <td>2</td>\n",
       "      <td>6</td>\n",
       "      <td>425000000</td>\n",
       "      <td>1</td>\n",
       "      <td>1</td>\n",
       "      <td>0</td>\n",
       "      <td>0</td>\n",
       "    </tr>\n",
       "    <tr>\n",
       "      <th>1640</th>\n",
       "      <td>1903</td>\n",
       "      <td>0</td>\n",
       "      <td>1401</td>\n",
       "      <td>10</td>\n",
       "      <td>1</td>\n",
       "      <td>1</td>\n",
       "      <td>7</td>\n",
       "      <td>12</td>\n",
       "      <td>490000000</td>\n",
       "      <td>1</td>\n",
       "      <td>1</td>\n",
       "      <td>1</td>\n",
       "      <td>0</td>\n",
       "    </tr>\n",
       "    <tr>\n",
       "      <th>1641</th>\n",
       "      <td>1904</td>\n",
       "      <td>120000</td>\n",
       "      <td>1391</td>\n",
       "      <td>10</td>\n",
       "      <td>1</td>\n",
       "      <td>1</td>\n",
       "      <td>4</td>\n",
       "      <td>8</td>\n",
       "      <td>280000000</td>\n",
       "      <td>1</td>\n",
       "      <td>1</td>\n",
       "      <td>0</td>\n",
       "      <td>0</td>\n",
       "    </tr>\n",
       "    <tr>\n",
       "      <th>1642</th>\n",
       "      <td>1905</td>\n",
       "      <td>97000</td>\n",
       "      <td>1396</td>\n",
       "      <td>10</td>\n",
       "      <td>1</td>\n",
       "      <td>1</td>\n",
       "      <td>6</td>\n",
       "      <td>0</td>\n",
       "      <td>330000000</td>\n",
       "      <td>1</td>\n",
       "      <td>1</td>\n",
       "      <td>0</td>\n",
       "      <td>0</td>\n",
       "    </tr>\n",
       "  </tbody>\n",
       "</table>\n",
       "<p>1643 rows × 13 columns</p>\n",
       "</div>"
      ],
      "text/plain": [
       "      Unnamed: 0  کارکرد  مدل (سال تولید)  رنگ  وضعیت موتور  وضعیت شاسی‌ها   \n",
       "0              0  300000             1383   20            1              1  \\\n",
       "1              1   46000             1400   10            1              1   \n",
       "2              2   18600             1399   10            1              1   \n",
       "3              3  251000             1388   10            1              1   \n",
       "4              4  200000             1390   10            1              1   \n",
       "...          ...     ...              ...  ...          ...            ...   \n",
       "1638        1901  300000             1387    5            1              1   \n",
       "1639        1902   40000             1400   10            1              1   \n",
       "1640        1903       0             1401   10            1              1   \n",
       "1641        1904  120000             1391   10            1              1   \n",
       "1642        1905   97000             1396   10            1              1   \n",
       "\n",
       "      وضعیت بدنه  مهلت بیمهٔ شخص ثالث  قیمت پایه  شاسی جلو  شاسی عقب   \n",
       "0              4                    9  186000000         1         1  \\\n",
       "1              8                    1  385000000         2         1   \n",
       "2              7                   11  432000000         1         1   \n",
       "3              2                    9  268000000         1         1   \n",
       "4              6                   10  290000000         1         1   \n",
       "...          ...                  ...        ...       ...       ...   \n",
       "1638           4                    7  245000000         1         1   \n",
       "1639           2                    6  425000000         1         1   \n",
       "1640           7                   12  490000000         1         1   \n",
       "1641           4                    8  280000000         1         1   \n",
       "1642           6                    0  330000000         1         1   \n",
       "\n",
       "      نمایشگاه  مایل به معاوضه  \n",
       "0            0               0  \n",
       "1            0               0  \n",
       "2            0               0  \n",
       "3            0               0  \n",
       "4            0               0  \n",
       "...        ...             ...  \n",
       "1638         0               1  \n",
       "1639         0               0  \n",
       "1640         1               0  \n",
       "1641         0               0  \n",
       "1642         0               0  \n",
       "\n",
       "[1643 rows x 13 columns]"
      ]
     },
     "execution_count": 342,
     "metadata": {},
     "output_type": "execute_result"
    }
   ],
   "source": [
    "df_test"
   ]
  },
  {
   "cell_type": "code",
   "execution_count": 343,
   "metadata": {},
   "outputs": [],
   "source": [
    "X = df_test[features]\n",
    "y = df_test[target]\n",
    "\n",
    "X_train, X_test, y_train, y_test = train_test_split(\n",
    "    X, y, test_size=0.2, random_state=42)\n",
    "pipeline = Pipeline([\n",
    "    ('classifier', SVC())\n",
    "])\n",
    "\n",
    "# Define the parameter space for grid search\n",
    "# Define the parameter grid for GridSearchCV\n",
    "param_grid = {\n",
    "    'kernel': ['linear', 'rbf'],\n",
    "    'C': [0.1, 1, 10],\n",
    "    'gamma': [0.1, 1, 10]\n",
    "}\n"
   ]
  },
  {
   "cell_type": "code",
   "execution_count": 303,
   "metadata": {},
   "outputs": [],
   "source": [
    "from sklearn.ensemble import RandomForestRegressor\n",
    "from sklearn.metrics import mean_squared_error, mean_absolute_error, r2_score\n",
    "from sklearn.svm import SVR\n"
   ]
  },
  {
   "cell_type": "code",
   "execution_count": 368,
   "metadata": {},
   "outputs": [
    {
     "name": "stdout",
     "output_type": "stream",
     "text": [
      "Mean Squared Error: 1.9655483566521564e+16\n",
      "Mean Absolute Error: 50476794.07221503\n",
      "R-squared: 0.03580051673085016\n"
     ]
    }
   ],
   "source": [
    "# model = SVR()\n",
    "\n",
    "# Perform grid search to find the best hyperparameters\n",
    "grid_search = GradientBoostingRegressor()\n",
    "grid_search.fit(X_train, y_train)\n",
    "# Get the best model with the optimal hyperparameters\n",
    "# best_model = grid_search.best_estimator_\n",
    "\n",
    "# Make predictions on the testing set\n",
    "y_pred = grid_search.predict(X_test)\n",
    "\n",
    "# Evaluate the model\n",
    "mse = mean_squared_error(y_test, y_pred)\n",
    "mae = mean_absolute_error(y_test, y_pred)\n",
    "r2 = r2_score(y_test, y_pred)\n",
    "\n",
    "# Print the evaluation metrics\n",
    "print('Mean Squared Error:', mse)\n",
    "print('Mean Absolute Error:', mae)\n",
    "print('R-squared:', r2)\n"
   ]
  },
  {
   "cell_type": "code",
   "execution_count": 369,
   "metadata": {},
   "outputs": [
    {
     "data": {
      "text/html": [
       "<div>\n",
       "<style scoped>\n",
       "    .dataframe tbody tr th:only-of-type {\n",
       "        vertical-align: middle;\n",
       "    }\n",
       "\n",
       "    .dataframe tbody tr th {\n",
       "        vertical-align: top;\n",
       "    }\n",
       "\n",
       "    .dataframe thead th {\n",
       "        text-align: right;\n",
       "    }\n",
       "</style>\n",
       "<table border=\"1\" class=\"dataframe\">\n",
       "  <thead>\n",
       "    <tr style=\"text-align: right;\">\n",
       "      <th></th>\n",
       "      <th>کارکرد</th>\n",
       "      <th>مدل (سال تولید)</th>\n",
       "      <th>رنگ</th>\n",
       "      <th>وضعیت موتور</th>\n",
       "      <th>وضعیت شاسی‌ها</th>\n",
       "      <th>وضعیت بدنه</th>\n",
       "      <th>مهلت بیمهٔ شخص ثالث</th>\n",
       "      <th>قیمت پایه</th>\n",
       "      <th>شاسی جلو</th>\n",
       "      <th>شاسی عقب</th>\n",
       "      <th>نمایشگاه</th>\n",
       "      <th>مایل به معاوضه</th>\n",
       "    </tr>\n",
       "  </thead>\n",
       "  <tbody>\n",
       "    <tr>\n",
       "      <th>0</th>\n",
       "      <td>300000</td>\n",
       "      <td>1383</td>\n",
       "      <td>20</td>\n",
       "      <td>1</td>\n",
       "      <td>1</td>\n",
       "      <td>4</td>\n",
       "      <td>9</td>\n",
       "      <td>186000000</td>\n",
       "      <td>1</td>\n",
       "      <td>1</td>\n",
       "      <td>0</td>\n",
       "      <td>0</td>\n",
       "    </tr>\n",
       "    <tr>\n",
       "      <th>1</th>\n",
       "      <td>46000</td>\n",
       "      <td>1400</td>\n",
       "      <td>10</td>\n",
       "      <td>1</td>\n",
       "      <td>1</td>\n",
       "      <td>8</td>\n",
       "      <td>1</td>\n",
       "      <td>385000000</td>\n",
       "      <td>2</td>\n",
       "      <td>1</td>\n",
       "      <td>0</td>\n",
       "      <td>0</td>\n",
       "    </tr>\n",
       "    <tr>\n",
       "      <th>2</th>\n",
       "      <td>18600</td>\n",
       "      <td>1399</td>\n",
       "      <td>10</td>\n",
       "      <td>1</td>\n",
       "      <td>1</td>\n",
       "      <td>7</td>\n",
       "      <td>11</td>\n",
       "      <td>432000000</td>\n",
       "      <td>1</td>\n",
       "      <td>1</td>\n",
       "      <td>0</td>\n",
       "      <td>0</td>\n",
       "    </tr>\n",
       "    <tr>\n",
       "      <th>3</th>\n",
       "      <td>251000</td>\n",
       "      <td>1388</td>\n",
       "      <td>10</td>\n",
       "      <td>1</td>\n",
       "      <td>1</td>\n",
       "      <td>2</td>\n",
       "      <td>9</td>\n",
       "      <td>268000000</td>\n",
       "      <td>1</td>\n",
       "      <td>1</td>\n",
       "      <td>0</td>\n",
       "      <td>0</td>\n",
       "    </tr>\n",
       "    <tr>\n",
       "      <th>4</th>\n",
       "      <td>200000</td>\n",
       "      <td>1390</td>\n",
       "      <td>10</td>\n",
       "      <td>1</td>\n",
       "      <td>1</td>\n",
       "      <td>6</td>\n",
       "      <td>10</td>\n",
       "      <td>290000000</td>\n",
       "      <td>1</td>\n",
       "      <td>1</td>\n",
       "      <td>0</td>\n",
       "      <td>0</td>\n",
       "    </tr>\n",
       "    <tr>\n",
       "      <th>...</th>\n",
       "      <td>...</td>\n",
       "      <td>...</td>\n",
       "      <td>...</td>\n",
       "      <td>...</td>\n",
       "      <td>...</td>\n",
       "      <td>...</td>\n",
       "      <td>...</td>\n",
       "      <td>...</td>\n",
       "      <td>...</td>\n",
       "      <td>...</td>\n",
       "      <td>...</td>\n",
       "      <td>...</td>\n",
       "    </tr>\n",
       "    <tr>\n",
       "      <th>1638</th>\n",
       "      <td>300000</td>\n",
       "      <td>1387</td>\n",
       "      <td>5</td>\n",
       "      <td>1</td>\n",
       "      <td>1</td>\n",
       "      <td>4</td>\n",
       "      <td>7</td>\n",
       "      <td>245000000</td>\n",
       "      <td>1</td>\n",
       "      <td>1</td>\n",
       "      <td>0</td>\n",
       "      <td>1</td>\n",
       "    </tr>\n",
       "    <tr>\n",
       "      <th>1639</th>\n",
       "      <td>40000</td>\n",
       "      <td>1400</td>\n",
       "      <td>10</td>\n",
       "      <td>1</td>\n",
       "      <td>1</td>\n",
       "      <td>2</td>\n",
       "      <td>6</td>\n",
       "      <td>425000000</td>\n",
       "      <td>1</td>\n",
       "      <td>1</td>\n",
       "      <td>0</td>\n",
       "      <td>0</td>\n",
       "    </tr>\n",
       "    <tr>\n",
       "      <th>1640</th>\n",
       "      <td>0</td>\n",
       "      <td>1401</td>\n",
       "      <td>10</td>\n",
       "      <td>1</td>\n",
       "      <td>1</td>\n",
       "      <td>7</td>\n",
       "      <td>12</td>\n",
       "      <td>490000000</td>\n",
       "      <td>1</td>\n",
       "      <td>1</td>\n",
       "      <td>1</td>\n",
       "      <td>0</td>\n",
       "    </tr>\n",
       "    <tr>\n",
       "      <th>1641</th>\n",
       "      <td>120000</td>\n",
       "      <td>1391</td>\n",
       "      <td>10</td>\n",
       "      <td>1</td>\n",
       "      <td>1</td>\n",
       "      <td>4</td>\n",
       "      <td>8</td>\n",
       "      <td>280000000</td>\n",
       "      <td>1</td>\n",
       "      <td>1</td>\n",
       "      <td>0</td>\n",
       "      <td>0</td>\n",
       "    </tr>\n",
       "    <tr>\n",
       "      <th>1642</th>\n",
       "      <td>97000</td>\n",
       "      <td>1396</td>\n",
       "      <td>10</td>\n",
       "      <td>1</td>\n",
       "      <td>1</td>\n",
       "      <td>6</td>\n",
       "      <td>0</td>\n",
       "      <td>330000000</td>\n",
       "      <td>1</td>\n",
       "      <td>1</td>\n",
       "      <td>0</td>\n",
       "      <td>0</td>\n",
       "    </tr>\n",
       "  </tbody>\n",
       "</table>\n",
       "<p>1643 rows × 12 columns</p>\n",
       "</div>"
      ],
      "text/plain": [
       "      کارکرد  مدل (سال تولید)  رنگ  وضعیت موتور  وضعیت شاسی‌ها  وضعیت بدنه   \n",
       "0     300000             1383   20            1              1           4  \\\n",
       "1      46000             1400   10            1              1           8   \n",
       "2      18600             1399   10            1              1           7   \n",
       "3     251000             1388   10            1              1           2   \n",
       "4     200000             1390   10            1              1           6   \n",
       "...      ...              ...  ...          ...            ...         ...   \n",
       "1638  300000             1387    5            1              1           4   \n",
       "1639   40000             1400   10            1              1           2   \n",
       "1640       0             1401   10            1              1           7   \n",
       "1641  120000             1391   10            1              1           4   \n",
       "1642   97000             1396   10            1              1           6   \n",
       "\n",
       "      مهلت بیمهٔ شخص ثالث  قیمت پایه  شاسی جلو  شاسی عقب  نمایشگاه   \n",
       "0                       9  186000000         1         1         0  \\\n",
       "1                       1  385000000         2         1         0   \n",
       "2                      11  432000000         1         1         0   \n",
       "3                       9  268000000         1         1         0   \n",
       "4                      10  290000000         1         1         0   \n",
       "...                   ...        ...       ...       ...       ...   \n",
       "1638                    7  245000000         1         1         0   \n",
       "1639                    6  425000000         1         1         0   \n",
       "1640                   12  490000000         1         1         1   \n",
       "1641                    8  280000000         1         1         0   \n",
       "1642                    0  330000000         1         1         0   \n",
       "\n",
       "      مایل به معاوضه  \n",
       "0                  0  \n",
       "1                  0  \n",
       "2                  0  \n",
       "3                  0  \n",
       "4                  0  \n",
       "...              ...  \n",
       "1638               1  \n",
       "1639               0  \n",
       "1640               0  \n",
       "1641               0  \n",
       "1642               0  \n",
       "\n",
       "[1643 rows x 12 columns]"
      ]
     },
     "execution_count": 369,
     "metadata": {},
     "output_type": "execute_result"
    }
   ],
   "source": [
    "df_test\n"
   ]
  },
  {
   "cell_type": "code",
   "execution_count": 386,
   "metadata": {},
   "outputs": [],
   "source": [
    "new_data = pd.DataFrame({'کارکرد': [22000], 'مدل (سال تولید)': [1400], 'رنگ': [1], 'وضعیت موتور': [1], 'وضعیت شاسی‌ها': [1], 'وضعیت بدنه': [\n",
    "                        6], 'مهلت بیمهٔ شخص ثالث': [6], 'شاسی جلو': [1], 'شاسی عقب': [1], 'نمایشگاه': [0], 'مایل به معاوضه': [0]})\n"
   ]
  },
  {
   "cell_type": "code",
   "execution_count": 387,
   "metadata": {},
   "outputs": [
    {
     "name": "stdout",
     "output_type": "stream",
     "text": [
      "Predicted price for the new data: [4.45113756e+08]\n"
     ]
    }
   ],
   "source": [
    "new_data_pred = grid_search.predict(new_data)\n",
    "print('Predicted price for the new data:', new_data_pred)\n"
   ]
  },
  {
   "cell_type": "code",
   "execution_count": 97,
   "metadata": {},
   "outputs": [
    {
     "name": "stdout",
     "output_type": "stream",
     "text": [
      "Mean Squared Error: 2.064546503102299e+16\n",
      "Mean Absolute Error: 50059134.197020926\n",
      "R-squared: -0.012763010759470284\n"
     ]
    }
   ],
   "source": [
    "# Initialize the grid search and fit it on the data\n",
    "grid_search = RandomForestRegressor()\n",
    "grid_search.fit(X_train, y_train)\n",
    "y_pred = grid_search.predict(X_test)\n",
    "# Evaluate the model\n",
    "mse = mean_squared_error(y_test, y_pred)\n",
    "mae = mean_absolute_error(y_test, y_pred)\n",
    "r2 = r2_score(y_test, y_pred)\n",
    "\n",
    "# Print the evaluation metrics\n",
    "print('Mean Squared Error:', mse)\n",
    "print('Mean Absolute Error:', mae)\n",
    "print('R-squared:', r2)\n"
   ]
  },
  {
   "cell_type": "code",
   "execution_count": 98,
   "metadata": {},
   "outputs": [
    {
     "ename": "ValueError",
     "evalue": "Classification metrics can't handle a mix of multiclass and continuous targets",
     "output_type": "error",
     "traceback": [
      "\u001b[1;31m---------------------------------------------------------------------------\u001b[0m",
      "\u001b[1;31mValueError\u001b[0m                                Traceback (most recent call last)",
      "Cell \u001b[1;32mIn[98], line 1\u001b[0m\n\u001b[1;32m----> 1\u001b[0m precisionGrid \u001b[38;5;241m=\u001b[39m \u001b[43mprecision_score\u001b[49m\u001b[43m(\u001b[49m\u001b[43my_test\u001b[49m\u001b[43m,\u001b[49m\u001b[43m \u001b[49m\u001b[43my_pred\u001b[49m\u001b[43m)\u001b[49m\n\u001b[0;32m      2\u001b[0m recallGrid \u001b[38;5;241m=\u001b[39m recall_score(y_test, y_pred)\n\u001b[0;32m      4\u001b[0m \u001b[38;5;28mprint\u001b[39m(\u001b[38;5;124m'\u001b[39m\u001b[38;5;124mPrecision:\u001b[39m\u001b[38;5;124m'\u001b[39m, precisionGrid)\n",
      "File \u001b[1;32mc:\\Users\\Alireza Nasoodi\\AppData\\Local\\Programs\\Python\\Python310\\lib\\site-packages\\sklearn\\metrics\\_classification.py:1954\u001b[0m, in \u001b[0;36mprecision_score\u001b[1;34m(y_true, y_pred, labels, pos_label, average, sample_weight, zero_division)\u001b[0m\n\u001b[0;32m   1825\u001b[0m \u001b[39mdef\u001b[39;00m \u001b[39mprecision_score\u001b[39m(\n\u001b[0;32m   1826\u001b[0m     y_true,\n\u001b[0;32m   1827\u001b[0m     y_pred,\n\u001b[1;32m   (...)\u001b[0m\n\u001b[0;32m   1833\u001b[0m     zero_division\u001b[39m=\u001b[39m\u001b[39m\"\u001b[39m\u001b[39mwarn\u001b[39m\u001b[39m\"\u001b[39m,\n\u001b[0;32m   1834\u001b[0m ):\n\u001b[0;32m   1835\u001b[0m \u001b[39m    \u001b[39m\u001b[39m\"\"\"Compute the precision.\u001b[39;00m\n\u001b[0;32m   1836\u001b[0m \n\u001b[0;32m   1837\u001b[0m \u001b[39m    The precision is the ratio ``tp / (tp + fp)`` where ``tp`` is the number of\u001b[39;00m\n\u001b[1;32m   (...)\u001b[0m\n\u001b[0;32m   1952\u001b[0m \u001b[39m    array([0.5, 1. , 1. ])\u001b[39;00m\n\u001b[0;32m   1953\u001b[0m \u001b[39m    \"\"\"\u001b[39;00m\n\u001b[1;32m-> 1954\u001b[0m     p, _, _, _ \u001b[39m=\u001b[39m precision_recall_fscore_support(\n\u001b[0;32m   1955\u001b[0m         y_true,\n\u001b[0;32m   1956\u001b[0m         y_pred,\n\u001b[0;32m   1957\u001b[0m         labels\u001b[39m=\u001b[39;49mlabels,\n\u001b[0;32m   1958\u001b[0m         pos_label\u001b[39m=\u001b[39;49mpos_label,\n\u001b[0;32m   1959\u001b[0m         average\u001b[39m=\u001b[39;49maverage,\n\u001b[0;32m   1960\u001b[0m         warn_for\u001b[39m=\u001b[39;49m(\u001b[39m\"\u001b[39;49m\u001b[39mprecision\u001b[39;49m\u001b[39m\"\u001b[39;49m,),\n\u001b[0;32m   1961\u001b[0m         sample_weight\u001b[39m=\u001b[39;49msample_weight,\n\u001b[0;32m   1962\u001b[0m         zero_division\u001b[39m=\u001b[39;49mzero_division,\n\u001b[0;32m   1963\u001b[0m     )\n\u001b[0;32m   1964\u001b[0m     \u001b[39mreturn\u001b[39;00m p\n",
      "File \u001b[1;32mc:\\Users\\Alireza Nasoodi\\AppData\\Local\\Programs\\Python\\Python310\\lib\\site-packages\\sklearn\\metrics\\_classification.py:1573\u001b[0m, in \u001b[0;36mprecision_recall_fscore_support\u001b[1;34m(y_true, y_pred, beta, labels, pos_label, average, warn_for, sample_weight, zero_division)\u001b[0m\n\u001b[0;32m   1571\u001b[0m \u001b[39mif\u001b[39;00m beta \u001b[39m<\u001b[39m \u001b[39m0\u001b[39m:\n\u001b[0;32m   1572\u001b[0m     \u001b[39mraise\u001b[39;00m \u001b[39mValueError\u001b[39;00m(\u001b[39m\"\u001b[39m\u001b[39mbeta should be >=0 in the F-beta score\u001b[39m\u001b[39m\"\u001b[39m)\n\u001b[1;32m-> 1573\u001b[0m labels \u001b[39m=\u001b[39m _check_set_wise_labels(y_true, y_pred, average, labels, pos_label)\n\u001b[0;32m   1575\u001b[0m \u001b[39m# Calculate tp_sum, pred_sum, true_sum ###\u001b[39;00m\n\u001b[0;32m   1576\u001b[0m samplewise \u001b[39m=\u001b[39m average \u001b[39m==\u001b[39m \u001b[39m\"\u001b[39m\u001b[39msamples\u001b[39m\u001b[39m\"\u001b[39m\n",
      "File \u001b[1;32mc:\\Users\\Alireza Nasoodi\\AppData\\Local\\Programs\\Python\\Python310\\lib\\site-packages\\sklearn\\metrics\\_classification.py:1374\u001b[0m, in \u001b[0;36m_check_set_wise_labels\u001b[1;34m(y_true, y_pred, average, labels, pos_label)\u001b[0m\n\u001b[0;32m   1371\u001b[0m \u001b[39mif\u001b[39;00m average \u001b[39mnot\u001b[39;00m \u001b[39min\u001b[39;00m average_options \u001b[39mand\u001b[39;00m average \u001b[39m!=\u001b[39m \u001b[39m\"\u001b[39m\u001b[39mbinary\u001b[39m\u001b[39m\"\u001b[39m:\n\u001b[0;32m   1372\u001b[0m     \u001b[39mraise\u001b[39;00m \u001b[39mValueError\u001b[39;00m(\u001b[39m\"\u001b[39m\u001b[39maverage has to be one of \u001b[39m\u001b[39m\"\u001b[39m \u001b[39m+\u001b[39m \u001b[39mstr\u001b[39m(average_options))\n\u001b[1;32m-> 1374\u001b[0m y_type, y_true, y_pred \u001b[39m=\u001b[39m _check_targets(y_true, y_pred)\n\u001b[0;32m   1375\u001b[0m \u001b[39m# Convert to Python primitive type to avoid NumPy type / Python str\u001b[39;00m\n\u001b[0;32m   1376\u001b[0m \u001b[39m# comparison. See https://github.com/numpy/numpy/issues/6784\u001b[39;00m\n\u001b[0;32m   1377\u001b[0m present_labels \u001b[39m=\u001b[39m unique_labels(y_true, y_pred)\u001b[39m.\u001b[39mtolist()\n",
      "File \u001b[1;32mc:\\Users\\Alireza Nasoodi\\AppData\\Local\\Programs\\Python\\Python310\\lib\\site-packages\\sklearn\\metrics\\_classification.py:95\u001b[0m, in \u001b[0;36m_check_targets\u001b[1;34m(y_true, y_pred)\u001b[0m\n\u001b[0;32m     92\u001b[0m     y_type \u001b[39m=\u001b[39m {\u001b[39m\"\u001b[39m\u001b[39mmulticlass\u001b[39m\u001b[39m\"\u001b[39m}\n\u001b[0;32m     94\u001b[0m \u001b[39mif\u001b[39;00m \u001b[39mlen\u001b[39m(y_type) \u001b[39m>\u001b[39m \u001b[39m1\u001b[39m:\n\u001b[1;32m---> 95\u001b[0m     \u001b[39mraise\u001b[39;00m \u001b[39mValueError\u001b[39;00m(\n\u001b[0;32m     96\u001b[0m         \u001b[39m\"\u001b[39m\u001b[39mClassification metrics can\u001b[39m\u001b[39m'\u001b[39m\u001b[39mt handle a mix of \u001b[39m\u001b[39m{0}\u001b[39;00m\u001b[39m and \u001b[39m\u001b[39m{1}\u001b[39;00m\u001b[39m targets\u001b[39m\u001b[39m\"\u001b[39m\u001b[39m.\u001b[39mformat(\n\u001b[0;32m     97\u001b[0m             type_true, type_pred\n\u001b[0;32m     98\u001b[0m         )\n\u001b[0;32m     99\u001b[0m     )\n\u001b[0;32m    101\u001b[0m \u001b[39m# We can't have more than one value on y_type => The set is no more needed\u001b[39;00m\n\u001b[0;32m    102\u001b[0m y_type \u001b[39m=\u001b[39m y_type\u001b[39m.\u001b[39mpop()\n",
      "\u001b[1;31mValueError\u001b[0m: Classification metrics can't handle a mix of multiclass and continuous targets"
     ]
    }
   ],
   "source": [
    "precisionGrid = precision_score(y_test, y_pred)\n",
    "recallGrid = recall_score(y_test, y_pred)\n",
    "\n",
    "print('Precision:', precisionGrid)\n",
    "print('Recall:', recallGrid)\n"
   ]
  },
  {
   "cell_type": "code",
   "execution_count": null,
   "metadata": {},
   "outputs": [],
   "source": [
    "# Create a new SVM model with the best parameters\n",
    "best_svm_model = SVC(\n",
    "    C=best_params['classifier__C'], gamma=best_params['classifier__gamma'], kernel=best_params['classifier__kernel'])\n",
    "\n",
    "# Fit the model on the training data\n",
    "best_svm_model.fit(X_train, y_train)\n",
    "\n",
    "# Make predictions on the validation data\n",
    "y_pred = best_svm_model.predict(X_test)\n",
    "\n",
    "y_predGrid = best_svm_model.predict(X_test)\n",
    "\n",
    "precisionGrid = precision_score(y_test, y_predGrid)\n",
    "recallGrid = recall_score(y_test, y_predGrid)\n",
    "\n",
    "print('Precision:', precisionGrid)\n",
    "print('Recall:', recallGrid)\n"
   ]
  }
 ],
 "metadata": {
  "kernelspec": {
   "display_name": "Python 3.10.5 64-bit",
   "language": "python",
   "name": "python3"
  },
  "language_info": {
   "codemirror_mode": {
    "name": "ipython",
    "version": 3
   },
   "file_extension": ".py",
   "mimetype": "text/x-python",
   "name": "python",
   "nbconvert_exporter": "python",
   "pygments_lexer": "ipython3",
   "version": "3.10.5"
  },
  "orig_nbformat": 4,
  "vscode": {
   "interpreter": {
    "hash": "c90e05859a382666e4894d63a584122ff5de3af31a894f8fc2a602eebd928066"
   }
  }
 },
 "nbformat": 4,
 "nbformat_minor": 2
}
