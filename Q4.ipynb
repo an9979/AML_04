{
 "cells": [
  {
   "cell_type": "code",
   "execution_count": 1,
   "metadata": {},
   "outputs": [],
   "source": [
    "# Step a) Data preprocessing\n",
    "from sklearn.metrics import accuracy_score\n",
    "from sklearn.tree import DecisionTreeClassifier\n",
    "import matplotlib.pyplot as plt\n",
    "import pandas as pd\n",
    "from sklearn.model_selection import train_test_split\n"
   ]
  },
  {
   "cell_type": "code",
   "execution_count": 48,
   "metadata": {},
   "outputs": [],
   "source": [
    "\n",
    "# Load the dataset\n",
    "data = pd.read_csv('ds_salaries.csv')\n"
   ]
  },
  {
   "cell_type": "code",
   "execution_count": 53,
   "metadata": {},
   "outputs": [
    {
     "data": {
      "text/html": [
       "<div>\n",
       "<style scoped>\n",
       "    .dataframe tbody tr th:only-of-type {\n",
       "        vertical-align: middle;\n",
       "    }\n",
       "\n",
       "    .dataframe tbody tr th {\n",
       "        vertical-align: top;\n",
       "    }\n",
       "\n",
       "    .dataframe thead th {\n",
       "        text-align: right;\n",
       "    }\n",
       "</style>\n",
       "<table border=\"1\" class=\"dataframe\">\n",
       "  <thead>\n",
       "    <tr style=\"text-align: right;\">\n",
       "      <th></th>\n",
       "      <th>work_year</th>\n",
       "      <th>experience_level</th>\n",
       "      <th>employment_type</th>\n",
       "      <th>job_title</th>\n",
       "      <th>salary</th>\n",
       "      <th>salary_currency</th>\n",
       "      <th>salary_in_usd</th>\n",
       "      <th>employee_residence</th>\n",
       "      <th>remote_ratio</th>\n",
       "      <th>company_location</th>\n",
       "      <th>company_size</th>\n",
       "    </tr>\n",
       "  </thead>\n",
       "  <tbody>\n",
       "    <tr>\n",
       "      <th>0</th>\n",
       "      <td>2023</td>\n",
       "      <td>3.0</td>\n",
       "      <td>2.0</td>\n",
       "      <td>84.0</td>\n",
       "      <td>80000</td>\n",
       "      <td>EUR</td>\n",
       "      <td>85847</td>\n",
       "      <td>26.0</td>\n",
       "      <td>100</td>\n",
       "      <td>25.0</td>\n",
       "      <td>0.0</td>\n",
       "    </tr>\n",
       "    <tr>\n",
       "      <th>1</th>\n",
       "      <td>2023</td>\n",
       "      <td>2.0</td>\n",
       "      <td>0.0</td>\n",
       "      <td>66.0</td>\n",
       "      <td>30000</td>\n",
       "      <td>USD</td>\n",
       "      <td>30000</td>\n",
       "      <td>75.0</td>\n",
       "      <td>100</td>\n",
       "      <td>70.0</td>\n",
       "      <td>2.0</td>\n",
       "    </tr>\n",
       "    <tr>\n",
       "      <th>2</th>\n",
       "      <td>2023</td>\n",
       "      <td>2.0</td>\n",
       "      <td>0.0</td>\n",
       "      <td>66.0</td>\n",
       "      <td>25500</td>\n",
       "      <td>USD</td>\n",
       "      <td>25500</td>\n",
       "      <td>75.0</td>\n",
       "      <td>100</td>\n",
       "      <td>70.0</td>\n",
       "      <td>2.0</td>\n",
       "    </tr>\n",
       "    <tr>\n",
       "      <th>3</th>\n",
       "      <td>2023</td>\n",
       "      <td>3.0</td>\n",
       "      <td>2.0</td>\n",
       "      <td>47.0</td>\n",
       "      <td>175000</td>\n",
       "      <td>USD</td>\n",
       "      <td>175000</td>\n",
       "      <td>11.0</td>\n",
       "      <td>100</td>\n",
       "      <td>12.0</td>\n",
       "      <td>1.0</td>\n",
       "    </tr>\n",
       "    <tr>\n",
       "      <th>4</th>\n",
       "      <td>2023</td>\n",
       "      <td>3.0</td>\n",
       "      <td>2.0</td>\n",
       "      <td>47.0</td>\n",
       "      <td>120000</td>\n",
       "      <td>USD</td>\n",
       "      <td>120000</td>\n",
       "      <td>11.0</td>\n",
       "      <td>100</td>\n",
       "      <td>12.0</td>\n",
       "      <td>1.0</td>\n",
       "    </tr>\n",
       "  </tbody>\n",
       "</table>\n",
       "</div>"
      ],
      "text/plain": [
       "   work_year  experience_level  employment_type  job_title  salary   \n",
       "0       2023               3.0              2.0       84.0   80000  \\\n",
       "1       2023               2.0              0.0       66.0   30000   \n",
       "2       2023               2.0              0.0       66.0   25500   \n",
       "3       2023               3.0              2.0       47.0  175000   \n",
       "4       2023               3.0              2.0       47.0  120000   \n",
       "\n",
       "  salary_currency  salary_in_usd  employee_residence  remote_ratio   \n",
       "0             EUR          85847                26.0           100  \\\n",
       "1             USD          30000                75.0           100   \n",
       "2             USD          25500                75.0           100   \n",
       "3             USD         175000                11.0           100   \n",
       "4             USD         120000                11.0           100   \n",
       "\n",
       "   company_location  company_size  \n",
       "0              25.0           0.0  \n",
       "1              70.0           2.0  \n",
       "2              70.0           2.0  \n",
       "3              12.0           1.0  \n",
       "4              12.0           1.0  "
      ]
     },
     "execution_count": 53,
     "metadata": {},
     "output_type": "execute_result"
    }
   ],
   "source": [
    "data.head()"
   ]
  },
  {
   "cell_type": "code",
   "execution_count": 41,
   "metadata": {},
   "outputs": [
    {
     "name": "stdout",
     "output_type": "stream",
     "text": [
      "work_year null count:  0\n",
      "experience_level null count:  0\n",
      "employment_type null count:  0\n",
      "job_title null count:  0\n",
      "salary_currency null count:  0\n",
      "salary_in_usd null count:  0\n",
      "employee_residence null count:  0\n",
      "remote_ratio null count:  0\n",
      "company_location null count:  0\n",
      "company_size null count:  0\n"
     ]
    }
   ],
   "source": [
    "print(\"work_year null count: \",data['work_year'].isnull().sum())\n",
    "print(\"experience_level null count: \",data['experience_level'].isnull().sum())\n",
    "print(\"employment_type null count: \",data['employment_type'].isnull().sum())\n",
    "print(\"job_title null count: \",data['job_title'].isnull().sum())\n",
    "print(\"salary_currency null count: \",data['salary_currency'].isnull().sum())\n",
    "print(\"salary_in_usd null count: \",data['salary_in_usd'].isnull().sum())\n",
    "print(\"employee_residence null count: \",data['employee_residence'].isnull().sum())\n",
    "print(\"remote_ratio null count: \",data['remote_ratio'].isnull().sum())\n",
    "print(\"company_location null count: \",data['company_location'].isnull().sum())\n",
    "print(\"company_size null count: \",data['company_size'].isnull().sum())\n"
   ]
  },
  {
   "cell_type": "code",
   "execution_count": 17,
   "metadata": {},
   "outputs": [
    {
     "data": {
      "text/plain": [
       "count    3755.000000\n",
       "mean     2022.373635\n",
       "std         0.691448\n",
       "min      2020.000000\n",
       "25%      2022.000000\n",
       "50%      2022.000000\n",
       "75%      2023.000000\n",
       "max      2023.000000\n",
       "Name: work_year, dtype: float64"
      ]
     },
     "execution_count": 17,
     "metadata": {},
     "output_type": "execute_result"
    }
   ],
   "source": [
    "data['work_year'].describe()\n"
   ]
  },
  {
   "cell_type": "code",
   "execution_count": 20,
   "metadata": {},
   "outputs": [
    {
     "name": "stdout",
     "output_type": "stream",
     "text": [
      "count     3755\n",
      "unique       4\n",
      "top         SE\n",
      "freq      2516\n",
      "Name: experience_level, dtype: object\n",
      "experience_level\n",
      "SE    2516\n",
      "MI     805\n",
      "EN     320\n",
      "EX     114\n",
      "Name: count, dtype: int64\n"
     ]
    }
   ],
   "source": [
    "print(data['experience_level'].describe())\n",
    "print(data['experience_level'].value_counts())"
   ]
  },
  {
   "cell_type": "code",
   "execution_count": 21,
   "metadata": {},
   "outputs": [
    {
     "name": "stdout",
     "output_type": "stream",
     "text": [
      "count     3755\n",
      "unique       4\n",
      "top         FT\n",
      "freq      3718\n",
      "Name: employment_type, dtype: object\n",
      "employment_type\n",
      "FT    3718\n",
      "PT      17\n",
      "CT      10\n",
      "FL      10\n",
      "Name: count, dtype: int64\n"
     ]
    }
   ],
   "source": [
    "print(data['employment_type'].describe())\n",
    "print(data['employment_type'].value_counts())"
   ]
  },
  {
   "cell_type": "code",
   "execution_count": 22,
   "metadata": {},
   "outputs": [
    {
     "name": "stdout",
     "output_type": "stream",
     "text": [
      "count              3755\n",
      "unique               93\n",
      "top       Data Engineer\n",
      "freq               1040\n",
      "Name: job_title, dtype: object\n",
      "job_title\n",
      "Data Engineer                          1040\n",
      "Data Scientist                          840\n",
      "Data Analyst                            612\n",
      "Machine Learning Engineer               289\n",
      "Analytics Engineer                      103\n",
      "                                       ... \n",
      "Principal Machine Learning Engineer       1\n",
      "Azure Data Engineer                       1\n",
      "Manager Data Management                   1\n",
      "Marketing Data Engineer                   1\n",
      "Finance Data Analyst                      1\n",
      "Name: count, Length: 93, dtype: int64\n"
     ]
    }
   ],
   "source": [
    "print(data['job_title'].describe())\n",
    "print(data['job_title'].value_counts())"
   ]
  },
  {
   "cell_type": "code",
   "execution_count": 23,
   "metadata": {},
   "outputs": [
    {
     "name": "stdout",
     "output_type": "stream",
     "text": [
      "count     3755\n",
      "unique      20\n",
      "top        USD\n",
      "freq      3224\n",
      "Name: salary_currency, dtype: object\n",
      "salary_currency\n",
      "USD    3224\n",
      "EUR     236\n",
      "GBP     161\n",
      "INR      60\n",
      "CAD      25\n",
      "AUD       9\n",
      "SGD       6\n",
      "BRL       6\n",
      "PLN       5\n",
      "CHF       4\n",
      "HUF       3\n",
      "DKK       3\n",
      "JPY       3\n",
      "TRY       3\n",
      "THB       2\n",
      "ILS       1\n",
      "HKD       1\n",
      "CZK       1\n",
      "MXN       1\n",
      "CLP       1\n",
      "Name: count, dtype: int64\n"
     ]
    }
   ],
   "source": [
    "print(data['salary_currency'].describe())\n",
    "print(data['salary_currency'].value_counts())\n"
   ]
  },
  {
   "cell_type": "code",
   "execution_count": 24,
   "metadata": {},
   "outputs": [
    {
     "name": "stdout",
     "output_type": "stream",
     "text": [
      "count      3755.000000\n",
      "mean     137570.389880\n",
      "std       63055.625278\n",
      "min        5132.000000\n",
      "25%       95000.000000\n",
      "50%      135000.000000\n",
      "75%      175000.000000\n",
      "max      450000.000000\n",
      "Name: salary_in_usd, dtype: float64\n",
      "salary_in_usd\n",
      "100000    99\n",
      "150000    98\n",
      "120000    91\n",
      "160000    84\n",
      "130000    82\n",
      "          ..\n",
      "234100     1\n",
      "223800     1\n",
      "172100     1\n",
      "232200     1\n",
      "94665      1\n",
      "Name: count, Length: 1035, dtype: int64\n"
     ]
    }
   ],
   "source": [
    "print(data['salary_in_usd'].describe())\n",
    "print(data['salary_in_usd'].value_counts())"
   ]
  },
  {
   "cell_type": "code",
   "execution_count": 25,
   "metadata": {},
   "outputs": [
    {
     "name": "stdout",
     "output_type": "stream",
     "text": [
      "count     3755\n",
      "unique      78\n",
      "top         US\n",
      "freq      3004\n",
      "Name: employee_residence, dtype: object\n",
      "employee_residence\n",
      "US    3004\n",
      "GB     167\n",
      "CA      85\n",
      "ES      80\n",
      "IN      71\n",
      "      ... \n",
      "BA       1\n",
      "AM       1\n",
      "CY       1\n",
      "KW       1\n",
      "MT       1\n",
      "Name: count, Length: 78, dtype: int64\n"
     ]
    }
   ],
   "source": [
    "print(data['employee_residence'].describe())\n",
    "print(data['employee_residence'].value_counts())\n"
   ]
  },
  {
   "cell_type": "code",
   "execution_count": 26,
   "metadata": {},
   "outputs": [
    {
     "name": "stdout",
     "output_type": "stream",
     "text": [
      "count    3755.000000\n",
      "mean       46.271638\n",
      "std        48.589050\n",
      "min         0.000000\n",
      "25%         0.000000\n",
      "50%         0.000000\n",
      "75%       100.000000\n",
      "max       100.000000\n",
      "Name: remote_ratio, dtype: float64\n",
      "remote_ratio\n",
      "0      1923\n",
      "100    1643\n",
      "50      189\n",
      "Name: count, dtype: int64\n"
     ]
    }
   ],
   "source": [
    "print(data['remote_ratio'].describe())\n",
    "print(data['remote_ratio'].value_counts())"
   ]
  },
  {
   "cell_type": "code",
   "execution_count": 27,
   "metadata": {},
   "outputs": [
    {
     "name": "stdout",
     "output_type": "stream",
     "text": [
      "count     3755\n",
      "unique      72\n",
      "top         US\n",
      "freq      3040\n",
      "Name: company_location, dtype: object\n",
      "company_location\n",
      "US    3040\n",
      "GB     172\n",
      "CA      87\n",
      "ES      77\n",
      "IN      58\n",
      "      ... \n",
      "MK       1\n",
      "BS       1\n",
      "IR       1\n",
      "CR       1\n",
      "MT       1\n",
      "Name: count, Length: 72, dtype: int64\n"
     ]
    }
   ],
   "source": [
    "print(data['company_location'].describe())\n",
    "print(data['company_location'].value_counts())"
   ]
  },
  {
   "cell_type": "code",
   "execution_count": 28,
   "metadata": {},
   "outputs": [
    {
     "name": "stdout",
     "output_type": "stream",
     "text": [
      "count     3755\n",
      "unique       3\n",
      "top          M\n",
      "freq      3153\n",
      "Name: company_size, dtype: object\n",
      "company_size\n",
      "M    3153\n",
      "L     454\n",
      "S     148\n",
      "Name: count, dtype: int64\n"
     ]
    }
   ],
   "source": [
    "print(data['company_size'].describe())\n",
    "print(data['company_size'].value_counts())"
   ]
  },
  {
   "cell_type": "code",
   "execution_count": 58,
   "metadata": {},
   "outputs": [],
   "source": [
    "drop_columns = ['salary', 'salary_currency']\n",
    "data.drop(columns=drop_columns,inplace=True)\n"
   ]
  },
  {
   "cell_type": "code",
   "execution_count": 51,
   "metadata": {},
   "outputs": [],
   "source": [
    "data['experience_level']=pd.Categorical(data['experience_level']).codes.astype(float)\n",
    "data['employment_type'] = pd.Categorical(\n",
    "    data['employment_type']).codes.astype(float)\n"
   ]
  },
  {
   "cell_type": "code",
   "execution_count": 52,
   "metadata": {},
   "outputs": [],
   "source": [
    "\n",
    "data['job_title']=pd.Categorical(data['job_title']).codes.astype(float)\n",
    "data['employee_residence']=pd.Categorical(data['employee_residence']).codes.astype(float)\n",
    "data['company_location']=pd.Categorical(data['company_location']).codes.astype(float)\n",
    "data['company_size'] = pd.Categorical(data['company_size']).codes.astype(float)\n"
   ]
  },
  {
   "cell_type": "code",
   "execution_count": null,
   "metadata": {},
   "outputs": [],
   "source": [
    "\n",
    "# Perform data preprocessing steps (e.g., handle missing values, encode categorical variables)\n"
   ]
  },
  {
   "cell_type": "code",
   "execution_count": 45,
   "metadata": {},
   "outputs": [
    {
     "data": {
      "image/png": "[encoded data removed]",
      "text/plain": [
       "<Figure size 640x480 with 1 Axes>"
      ]
     },
     "metadata": {},
     "output_type": "display_data"
    }
   ],
   "source": [
    "\n",
    "# Step b) Extract useful information using data visualization and considering the \"job_title\" column\n",
    "\n",
    "# Example: Plotting a bar plot of job titles\n",
    "job_title_counts = data['job_title'].value_counts()\n",
    "plt.bar(job_title_counts.index, job_title_counts.values)\n",
    "plt.xlabel('Job Title')\n",
    "plt.ylabel('Count')\n",
    "plt.title('Distribution of Job Titles')\n",
    "plt.show()\n"
   ]
  },
  {
   "cell_type": "code",
   "execution_count": 60,
   "metadata": {},
   "outputs": [],
   "source": [
    "\n",
    "# Step c) Split the dataset into train and test\n",
    "# Replace 'target_variable' with your actual target column name\n",
    "X = data.drop('salary_in_usd', axis=1)\n",
    "y = data['salary_in_usd']\n",
    "\n",
    "X_train, X_test, y_train, y_test = train_test_split(\n",
    "    X, y, test_size=0.2, random_state=42)\n"
   ]
  },
  {
   "cell_type": "code",
   "execution_count": 59,
   "metadata": {},
   "outputs": [
    {
     "data": {
      "text/html": [
       "<div>\n",
       "<style scoped>\n",
       "    .dataframe tbody tr th:only-of-type {\n",
       "        vertical-align: middle;\n",
       "    }\n",
       "\n",
       "    .dataframe tbody tr th {\n",
       "        vertical-align: top;\n",
       "    }\n",
       "\n",
       "    .dataframe thead th {\n",
       "        text-align: right;\n",
       "    }\n",
       "</style>\n",
       "<table border=\"1\" class=\"dataframe\">\n",
       "  <thead>\n",
       "    <tr style=\"text-align: right;\">\n",
       "      <th></th>\n",
       "      <th>work_year</th>\n",
       "      <th>experience_level</th>\n",
       "      <th>employment_type</th>\n",
       "      <th>job_title</th>\n",
       "      <th>salary_in_usd</th>\n",
       "      <th>employee_residence</th>\n",
       "      <th>remote_ratio</th>\n",
       "      <th>company_location</th>\n",
       "      <th>company_size</th>\n",
       "    </tr>\n",
       "  </thead>\n",
       "  <tbody>\n",
       "    <tr>\n",
       "      <th>0</th>\n",
       "      <td>2023</td>\n",
       "      <td>3.0</td>\n",
       "      <td>2.0</td>\n",
       "      <td>84.0</td>\n",
       "      <td>85847</td>\n",
       "      <td>26.0</td>\n",
       "      <td>100</td>\n",
       "      <td>25.0</td>\n",
       "      <td>0.0</td>\n",
       "    </tr>\n",
       "    <tr>\n",
       "      <th>1</th>\n",
       "      <td>2023</td>\n",
       "      <td>2.0</td>\n",
       "      <td>0.0</td>\n",
       "      <td>66.0</td>\n",
       "      <td>30000</td>\n",
       "      <td>75.0</td>\n",
       "      <td>100</td>\n",
       "      <td>70.0</td>\n",
       "      <td>2.0</td>\n",
       "    </tr>\n",
       "    <tr>\n",
       "      <th>2</th>\n",
       "      <td>2023</td>\n",
       "      <td>2.0</td>\n",
       "      <td>0.0</td>\n",
       "      <td>66.0</td>\n",
       "      <td>25500</td>\n",
       "      <td>75.0</td>\n",
       "      <td>100</td>\n",
       "      <td>70.0</td>\n",
       "      <td>2.0</td>\n",
       "    </tr>\n",
       "    <tr>\n",
       "      <th>3</th>\n",
       "      <td>2023</td>\n",
       "      <td>3.0</td>\n",
       "      <td>2.0</td>\n",
       "      <td>47.0</td>\n",
       "      <td>175000</td>\n",
       "      <td>11.0</td>\n",
       "      <td>100</td>\n",
       "      <td>12.0</td>\n",
       "      <td>1.0</td>\n",
       "    </tr>\n",
       "    <tr>\n",
       "      <th>4</th>\n",
       "      <td>2023</td>\n",
       "      <td>3.0</td>\n",
       "      <td>2.0</td>\n",
       "      <td>47.0</td>\n",
       "      <td>120000</td>\n",
       "      <td>11.0</td>\n",
       "      <td>100</td>\n",
       "      <td>12.0</td>\n",
       "      <td>1.0</td>\n",
       "    </tr>\n",
       "  </tbody>\n",
       "</table>\n",
       "</div>"
      ],
      "text/plain": [
       "   work_year  experience_level  employment_type  job_title  salary_in_usd   \n",
       "0       2023               3.0              2.0       84.0          85847  \\\n",
       "1       2023               2.0              0.0       66.0          30000   \n",
       "2       2023               2.0              0.0       66.0          25500   \n",
       "3       2023               3.0              2.0       47.0         175000   \n",
       "4       2023               3.0              2.0       47.0         120000   \n",
       "\n",
       "   employee_residence  remote_ratio  company_location  company_size  \n",
       "0                26.0           100              25.0           0.0  \n",
       "1                75.0           100              70.0           2.0  \n",
       "2                75.0           100              70.0           2.0  \n",
       "3                11.0           100              12.0           1.0  \n",
       "4                11.0           100              12.0           1.0  "
      ]
     },
     "execution_count": 59,
     "metadata": {},
     "output_type": "execute_result"
    }
   ],
   "source": [
    "data.head()"
   ]
  },
  {
   "cell_type": "code",
   "execution_count": 61,
   "metadata": {},
   "outputs": [
    {
     "data": {
      "text/html": [
       "<style>#sk-container-id-1 {color: black;background-color: white;}#sk-container-id-1 pre{padding: 0;}#sk-container-id-1 div.sk-toggleable {background-color: white;}#sk-container-id-1 label.sk-toggleable__label {cursor: pointer;display: block;width: 100%;margin-bottom: 0;padding: 0.3em;box-sizing: border-box;text-align: center;}#sk-container-id-1 label.sk-toggleable__label-arrow:before {content: \"▸\";float: left;margin-right: 0.25em;color: #696969;}#sk-container-id-1 label.sk-toggleable__label-arrow:hover:before {color: black;}#sk-container-id-1 div.sk-estimator:hover label.sk-toggleable__label-arrow:before {color: black;}#sk-container-id-1 div.sk-toggleable__content {max-height: 0;max-width: 0;overflow: hidden;text-align: left;background-color: #f0f8ff;}#sk-container-id-1 div.sk-toggleable__content pre {margin: 0.2em;color: black;border-radius: 0.25em;background-color: #f0f8ff;}#sk-container-id-1 input.sk-toggleable__control:checked~div.sk-toggleable__content {max-height: 200px;max-width: 100%;overflow: auto;}#sk-container-id-1 input.sk-toggleable__control:checked~label.sk-toggleable__label-arrow:before {content: \"▾\";}#sk-container-id-1 div.sk-estimator input.sk-toggleable__control:checked~label.sk-toggleable__label {background-color: #d4ebff;}#sk-container-id-1 div.sk-label input.sk-toggleable__control:checked~label.sk-toggleable__label {background-color: #d4ebff;}#sk-container-id-1 input.sk-hidden--visually {border: 0;clip: rect(1px 1px 1px 1px);clip: rect(1px, 1px, 1px, 1px);height: 1px;margin: -1px;overflow: hidden;padding: 0;position: absolute;width: 1px;}#sk-container-id-1 div.sk-estimator {font-family: monospace;background-color: #f0f8ff;border: 1px dotted black;border-radius: 0.25em;box-sizing: border-box;margin-bottom: 0.5em;}#sk-container-id-1 div.sk-estimator:hover {background-color: #d4ebff;}#sk-container-id-1 div.sk-parallel-item::after {content: \"\";width: 100%;border-bottom: 1px solid gray;flex-grow: 1;}#sk-container-id-1 div.sk-label:hover label.sk-toggleable__label {background-color: #d4ebff;}#sk-container-id-1 div.sk-serial::before {content: \"\";position: absolute;border-left: 1px solid gray;box-sizing: border-box;top: 0;bottom: 0;left: 50%;z-index: 0;}#sk-container-id-1 div.sk-serial {display: flex;flex-direction: column;align-items: center;background-color: white;padding-right: 0.2em;padding-left: 0.2em;position: relative;}#sk-container-id-1 div.sk-item {position: relative;z-index: 1;}#sk-container-id-1 div.sk-parallel {display: flex;align-items: stretch;justify-content: center;background-color: white;position: relative;}#sk-container-id-1 div.sk-item::before, #sk-container-id-1 div.sk-parallel-item::before {content: \"\";position: absolute;border-left: 1px solid gray;box-sizing: border-box;top: 0;bottom: 0;left: 50%;z-index: -1;}#sk-container-id-1 div.sk-parallel-item {display: flex;flex-direction: column;z-index: 1;position: relative;background-color: white;}#sk-container-id-1 div.sk-parallel-item:first-child::after {align-self: flex-end;width: 50%;}#sk-container-id-1 div.sk-parallel-item:last-child::after {align-self: flex-start;width: 50%;}#sk-container-id-1 div.sk-parallel-item:only-child::after {width: 0;}#sk-container-id-1 div.sk-dashed-wrapped {border: 1px dashed gray;margin: 0 0.4em 0.5em 0.4em;box-sizing: border-box;padding-bottom: 0.4em;background-color: white;}#sk-container-id-1 div.sk-label label {font-family: monospace;font-weight: bold;display: inline-block;line-height: 1.2em;}#sk-container-id-1 div.sk-label-container {text-align: center;}#sk-container-id-1 div.sk-container {/* jupyter's `normalize.less` sets `[hidden] { display: none; }` but bootstrap.min.css set `[hidden] { display: none !important; }` so we also need the `!important` here to be able to override the default hidden behavior on the sphinx rendered scikit-learn.org. See: https://github.com/scikit-learn/scikit-learn/issues/21755 */display: inline-block !important;position: relative;}#sk-container-id-1 div.sk-text-repr-fallback {display: none;}</style><div id=\"sk-container-id-1\" class=\"sk-top-container\"><div class=\"sk-text-repr-fallback\"><pre>DecisionTreeClassifier(max_depth=2)</pre><b>In a Jupyter environment, please rerun this cell to show the HTML representation or trust the notebook. <br />On GitHub, the HTML representation is unable to render, please try loading this page with nbviewer.org.</b></div><div class=\"sk-container\" hidden><div class=\"sk-item\"><div class=\"sk-estimator sk-toggleable\"><input class=\"sk-toggleable__control sk-hidden--visually\" id=\"sk-estimator-id-1\" type=\"checkbox\" checked><label for=\"sk-estimator-id-1\" class=\"sk-toggleable__label sk-toggleable__label-arrow\">DecisionTreeClassifier</label><div class=\"sk-toggleable__content\"><pre>DecisionTreeClassifier(max_depth=2)</pre></div></div></div></div></div>"
      ],
      "text/plain": [
       "DecisionTreeClassifier(max_depth=2)"
      ]
     },
     "execution_count": 61,
     "metadata": {},
     "output_type": "execute_result"
    }
   ],
   "source": [
    "# Step d) Train the model\n",
    "from sklearn.tree import DecisionTreeClassifier\n",
    "from sklearn.ensemble import RandomForestClassifier\n",
    "from sklearn.metrics import accuracy_score\n",
    "\n",
    "# Create an instance of the DecisionTreeClassifier with max depth 2\n",
    "decision_tree = DecisionTreeClassifier(max_depth=2)\n",
    "\n",
    "# Fit the model on the training data\n",
    "decision_tree.fit(X_train, y_train)\n"
   ]
  },
  {
   "cell_type": "code",
   "execution_count": 62,
   "metadata": {},
   "outputs": [
    {
     "name": "stdout",
     "output_type": "stream",
     "text": [
      "Decision Tree accuracy: 0.03195739014647137\n"
     ]
    }
   ],
   "source": [
    "\n",
    "# Step e) Report model accuracy of the decision tree model\n",
    "y_pred_tree = decision_tree.predict(X_test)\n",
    "accuracy_tree = accuracy_score(y_test, y_pred_tree)\n",
    "print(\"Decision Tree accuracy:\", accuracy_tree)\n"
   ]
  },
  {
   "cell_type": "code",
   "execution_count": 65,
   "metadata": {},
   "outputs": [
    {
     "name": "stdout",
     "output_type": "stream",
     "text": [
      "Random Forest accuracy (trained on leaf node assignments): 0.033288948069241014\n"
     ]
    }
   ],
   "source": [
    "\n",
    "# Step f) Train the data in the leaf using another arbitrary algorithm (Random Forest in this example)\n",
    "random_forest = RandomForestClassifier()\n",
    "\n",
    "# Extract the leaf node assignments from the decision tree model\n",
    "leaf_assignments = decision_tree.apply(X_train)\n",
    "leaf_assignments = leaf_assignments.reshape(-1, 1)\n",
    "# Fit the random forest model on the leaf node assignments\n",
    "random_forest.fit(leaf_assignments, y_train)\n",
    "\n",
    "# Step g) Report model accuracy of the arbitrary algorithm (Random Forest) trained on the leaf node assignments\n",
    "leaf_assignments_test = decision_tree.apply(X_test)\n",
    "leaf_assignments_test = leaf_assignments_test.reshape(-1, 1)\n",
    "y_pred_rf = random_forest.predict(leaf_assignments_test)\n",
    "accuracy_rf = accuracy_score(y_test, y_pred_rf)\n",
    "print(\"Random Forest accuracy (trained on leaf node assignments):\", accuracy_rf)\n"
   ]
  }
 ],
 "metadata": {
  "kernelspec": {
   "display_name": "Python 3.10.5 64-bit",
   "language": "python",
   "name": "python3"
  },
  "language_info": {
   "codemirror_mode": {
    "name": "ipython",
    "version": 3
   },
   "file_extension": ".py",
   "mimetype": "text/x-python",
   "name": "python",
   "nbconvert_exporter": "python",
   "pygments_lexer": "ipython3",
   "version": "3.10.5"
  },
  "orig_nbformat": 4,
  "vscode": {
   "interpreter": {
    "hash": "c90e05859a382666e4894d63a584122ff5de3af31a894f8fc2a602eebd928066"
   }
  }
 },
 "nbformat": 4,
 "nbformat_minor": 2
}
